{
 "cells": [
  {
   "cell_type": "code",
   "execution_count": 48,
   "metadata": {},
   "outputs": [],
   "source": [
    "import re"
   ]
  },
  {
   "cell_type": "code",
   "execution_count": null,
   "metadata": {},
   "outputs": [],
   "source": [
    "#Q1. Create a dictionary IP_Count where each key-value pair is IP-Address and its frequency in the entire file.\n",
    "#For example, {“10.128.2.1”: 10, “10.131.2.1”: 12 } indicates the IP 10.128.2.1 has appeared 10 times,  10.131.2.1\n",
    "#appeared 12 times in the file and so on.\n"
   ]
  },
  {
   "cell_type": "code",
   "execution_count": 49,
   "metadata": {},
   "outputs": [
    {
     "name": "stdout",
     "output_type": "stream",
     "text": [
      "{'10.128.2.1': 4257, '10.131.2.1': 1626, '10.130.2.1': 4056, '10.129.2.1': 1652, '10.131.0.1': 4198}\n"
     ]
    }
   ],
   "source": [
    "\n",
    "try:\n",
    "    fhand=open('weblog.txt','r')\n",
    "except:\n",
    "    print('File cannot be opened')\n",
    "    exit()\n",
    "    \n",
    "list1=[]    \n",
    "for line in fhand:\n",
    "    line=line.rstrip()\n",
    "    ip=re.findall(\"\\d+.\\d{3}.\\d{1}.\\d\",line)\n",
    "    list1.extend(ip)\n",
    "\n",
    "\n",
    "dict1={}\n",
    "for ip in list1:\n",
    "    dict1[ip]=list1.count(ip)\n",
    "print(dict1)\n",
    "fhand.close()"
   ]
  },
  {
   "cell_type": "code",
   "execution_count": null,
   "metadata": {},
   "outputs": [],
   "source": [
    "#Q2. Create a dictionary Daily_Stats where each key-value pair is Date (string containing only the date, without time)\n",
    "#and number of actions carried out on that day. For example, {“ 29/Nov/2017”: 15, “20/Dec/2017”: 13} indicates \n",
    "#there are 15 actions happened on 29th November 2017, 13 actions on 20th December etc. "
   ]
  },
  {
   "cell_type": "code",
   "execution_count": 34,
   "metadata": {},
   "outputs": [
    {
     "name": "stdout",
     "output_type": "stream",
     "text": [
      "{'29/Nov/2017': 580, '30/Nov/2017': 2991, '01/Dec/2017': 468, '02/Dec/2017': 168, '03/Dec/2017': 105, '07/Nov/2017': 2, '08/Nov/2017': 106, '09/Nov/2017': 236, '10/Nov/2017': 64, '11/Nov/2017': 286, '12/Nov/2017': 338, '13/Nov/2017': 230, '14/Nov/2017': 150, '15/Nov/2017': 78, '16/Nov/2017': 384, '17/Nov/2017': 481, '18/Nov/2017': 96, '19/Nov/2017': 164, '20/Nov/2017': 58, '21/Nov/2017': 47, '22/Nov/2017': 60, '23/Nov/2017': 380, '24/Nov/2017': 94, '25/Nov/2017': 250, '26/Nov/2017': 179, '12/Dec/2017': 86, '13/Dec/2017': 133, '14/Dec/2017': 165, '15/Dec/2017': 100, '16/Dec/2017': 155, '17/Dec/2017': 92, '18/Dec/2017': 178, '19/Dec/2017': 55, '20/Dec/2017': 98, '21/Dec/2017': 72, '22/Dec/2017': 11, '23/Dec/2017': 43, '16/Jan/2018': 76, '17/Jan/2018': 29, '18/Jan/2018': 63, '29/Jan/2018': 5092, '15/Feb/2018': 20, '16/Feb/2018': 33, '17/Feb/2018': 65, '18/Feb/2018': 34, '19/Feb/2018': 32, '20/Feb/2018': 62, '21/Feb/2018': 110, '22/Feb/2018': 231, '23/Feb/2018': 127, '24/Feb/2018': 15, '25/Feb/2018': 139, '26/Feb/2018': 98, '27/Feb/2018': 83, '28/Feb/2018': 123, '01/Mar/2018': 31, '02/Mar/2018': 143}\n"
     ]
    }
   ],
   "source": [
    "\n",
    "\n",
    "try:\n",
    "    fhand=open('weblog.txt','r')#02/Mar/2018:\n",
    "except:\n",
    "    print('File cannot be opened')\n",
    "    exit()\n",
    "    \n",
    "list2=[]\n",
    "for date in fhand:\n",
    "    date=date.rstrip()\n",
    "    dt=re.findall('([0-9]{2}/[A-Za-z]{3}/[0-9]{4})',date)\n",
    "    list2.extend(dt)\n",
    "                  \n",
    "dict1={}\n",
    "for dt in list2:\n",
    "    dict1[dt]=list2.count(dt)\n",
    "print(dict1)\n",
    "fhand.close()\n",
    "                   "
   ]
  },
  {
   "cell_type": "code",
   "execution_count": null,
   "metadata": {},
   "outputs": [],
   "source": [
    "#Q3.Display the URL which has been accessed (either for submit or upload) for most number of times."
   ]
  },
  {
   "cell_type": "code",
   "execution_count": 46,
   "metadata": {},
   "outputs": [
    {
     "name": "stdout",
     "output_type": "stream",
     "text": [
      "{'login.php ': 0, 'process.php ': 0, 'home.php ': 0, 'js/vendor/moment.min.js ': 0, 'bootstrap-3.3.7/js/bootstrap.js ': 0, 'profile.php?user=bala ': 0, 'js/jquery.min.js ': 0, 'js/chart.min.js ': 0, 'edit.php?name=bala ': 0, 'logout.php ': 0, 'contestproblem.php?name=RUET%20OJ%20Server%20Testing%20Contest ': 0, 'css/bootstrap.min.css ': 0, 'css/font-awesome.min.css ': 0, 'css/normalize.css ': 0, 'css/style.css ': 0, 'js/vendor/modernizr-2.8.3.min.js ': 0, 'css/main.css ': 0, 'js/vendor/jquery-1.12.0.min.js ': 0, 'bootstrap-3.3.7/js/bootstrap.min.js ': 0, 'fonts/fontawesome-webfont.woff2?v=4.6.3 ': 0, 'login.php?value=fail ': 0, 'countdown.php?name=RUET%20OJ%20Server%20Testing%20Contest ': 0, 'details.php?id=44 ': 0, 'compiler.php ': 0, 'contest.php ': 0, 'details.php?id=46 ': 0, 'details.php?id=42 ': 0, 'details.php?id=45 ': 0, 'contestproblem.php?name=RUET%20OJ%20TLE%20Testing%20Contest ': 0, 'archive.php ': 0, 'allsubmission.php ': 0, 'showcode.php?id=284&nm=xyz_xyz ': 0, 'showcode.php?id=281&nm=shawon ': 0, 'index.php ': 0, 'contestproblem.php?name=Toph%20Contest%202 ': 0, 'contestproblem.php?name=ncpc%202016 ': 0, 'details.php?id=3 ': 0, 'contestsubmission.php?id=4 ': 0, 'sign.php ': 0, 'contestsubmission.php?id=13 ': 0, 'action.php ': 0, 'description.php?id=72 ': 0, 'description.php?id=62 ': 0, 'img/ruet.png ': 0, 'profile.php?user=ksrsingh ': 0, 'edit.php?name=ksrsingh ': 0, 'description.php?id=55 ': 0, 'submit.php?id=55 ': 0, 'description.php?id=64 ': 0, 'submit.php?id=64 ': 0, 'pcompile.php ': 0, 'showcode.php?id=285&nm=ksrsingh ': 0, 'description.php?name=RUET ': 0, 'profile.php?user=shawon ': 0, 'allsubmission.php?name=shawon ': 0, 'contestsubmission.php?id=3&show=shawon ': 0, 'details.php?id=41 ': 0, 'archive.php?page=2 ': 0, 'robots.txt ': 0, 'fonts/fontawesome-webfont.woff?v=4.6.3 ': 0, 'favicon.ico ': 0, 'details.php?id=33 ': 0, 'archive.php?page=1 ': 0, 'profile.php?user=moshiur_cse15 ': 0, 'profile.php?user=Rakib_1603065 ': 0, 'allsubmission.php?name=moshiur_cse15 ': 0, 'description.php?id=71 ': 0, 'description.php?id=60 ': 0, 'description.php?id=67 ': 0, 'profile.php?user=toph ': 0, 'profile.php?user=DevSkill ': 0, 'showcode.php?id=286&nm=Rakib_1603065 ': 0, 'showcode.php?id=287&nm=Riyal_RUET ': 0, 'showcode.php?id=288&nm=Riyal_RUET ': 0, 'showcode.php?id=289&nm=Rakib_1603065 ': 0, 'showcode.php?id=290&nm=Rakib_1603065 ': 0, 'submit.php?id=67 ': 0, 'profile.php?user=Riyal_RUET ': 0, 'description.php?id=58 ': 0, 'submit.php?id=58 ': 0, 'description.php?id=63 ': 0, 'submit.php?id=63 ': 0, 'description.php?name=The%20Triangle ': 0, 'description.php?id=68 ': 0, 'submit.php?id=68 ': 0, 'allsubmission.php?page=2 ': 0, 'description.php?name=Many%20a%20little%20makes%20a%20mickle ': 0, 'description.php?id=73 ': 0, 'submit.php?id=73 ': 0, 'contestsubmission.php?id=16 ': 0, 'profile.php?user=Goni ': 0, 'showcode.php?id=294&nm=Rakib_1603065 ': 0, 'details.php?id=43 ': 0, 'contestsubmit.php?id=45 ': 0, 'profile.php?user=bruce ': 0, 'contestsubmission.php ': 0, 'standings.php?id=16 ': 0, 'contestsubmission.php?id=16&show=bruce ': 0, 'profile.php?user=Tazbinur%20Rahaman ': 0, 'edit.php?name=Tazbinur%20Rahaman ': 0, 'update.php ': 0, 'contestproblem.php?name=ncpc_ruet ': 0, 'details.php?id=9 ': 0, 'contestsubmit.php?id=42 ': 0, 'details.php?name=Research%20Items&cod=16 ': 0, 'contestsubmit.php?id=41 ': 0, 'details.php?name=Factorial%20Factorization&cod=16 ': 0, 'details.php?name=Matrix%20For%20My%20Valentine%20&cod=16 ': 0, 'contestsubmission.php?id=16&page=1 ': 0, 'contestsubmission.php?id=16&show=tanu_1603070 ': 0, 'contestproblem.php?name=RUET%20OJ%20Final%20Test ': 0, 'details.php?id=39 ': 0, 'contestsubmission.php?id=16&show=samin_1610002 ': 0, 'contestsubmission.php?id=16&show=dhruba_1603088 ': 0, 'contestshowcode.php?id=392&nm=dhruba_1603088&cn=16 ': 0, 'contestsubmission.php?id=14&show=bruce ': 0, 'compile.php ': 0, 'profile.php?user=mahadi ': 0, 'edit.php?name=mahadi ': 0, 'allsubmission.php?name=mahadi ': 0, 'editcontestproblem.php?id=45 ': 0, 'contestproblem.php ': 0, 'announcement.php ': 0, 'contestsubmission.php?id=16&show=superman100 ': 0, 'contestsubmit.php?id=44 ': 0, 'profile.php?user=abufarhad ': 0, 'contestsubmission.php?id=13&show=abufarhad ': 0, 'standings.php?id=13 ': 0, 'editcontestproblem.php?id=43 ': 0, 'profile.php?user=superman100 ': 0, 'profile.php?user=dhruba_1603088 ': 0, 'contestproblem.php?name= ': 0, 'sign.php?value=fail ': 0, 'contestsubmit.php?id=43 ': 0, 'details.php?name=Another%20Multiplication%20Game&cod=16 ': 0, 'contestsubmission.php?id=16&show=Tasnim_1610007 ': 0, 'profile.php?user=m.r.saurov ': 0, 'profile.php?user=Tasnim_1610007 ': 0, 'edit.php?name=m.r.saurov ': 0, 'profile.php?user=samin_1610002 ': 0, 'contestsubmission.php?id=16&page=2 ': 0, 'profile.php?user=utshab_1603022 ': 0, 'contestsubmission.php?id=16&show=utshab_1603022 ': 0, 'contestsubmission.php?id=16&show=FFIsty_1603011 ': 0, 'editcontestproblem.php?id=41 ': 0, 'setproblem.php ': 0, 'description.php?id=76 ': 0, 'profile.php?user=PKP ': 0, 'profile.php?user=nasif25 ': 0, 'editcontestproblem.php?id=42 ': 0, 'description.php?id=77 ': 0, 'submit.php?id=76 ': 0, 'description.php?name=Matrix%20For%20My%20Valentine ': 0, 'allsubmission.php?page=3 ': 0, 'profile.php?user=xyz_xyz ': 0, 'allsubmission.php?page=4 ': 0, 'allsubmission.php?page=5 ': 0, 'standings.php ': 0, 'details.php ': 0, 'profile.php?user=FFIsty_1603011 ': 0, 'profile.php ': 0, 'details.php?name=Adjacency%20List&cod=16 ': 0, 'editcontestproblem.php?id=44 ': 0, 'description.php?id=78 ': 0, 'submit.php?id=78 ': 0, 'submit.php ': 0, 'showcode.php?id=296&nm=bruce ': 0, 'profile.php?user=wbreturn ': 0, 'fonts/fontawesome-webfont.woff2 ': 0, 'contestsubmission.php?id=3 ': 0, 'standings.php?id=3 ': 0, 'profile.php?user=zerocool ': 0, 'edit.php?name=zerocool ': 0, 'allsubmission.php?name=zerocool ': 0, 'contestsubmission.php?id=13&show=AYSrizon ': 0, 'details.php?name=Magic%20Square&cod=13 ': 0, 'css/bootstrap.min.css.map ': 0, 'profile.php?user=mdshs.shanto ': 0, 'profile.php?user=ashadullah ': 0, 'submit.php?id=77 ': 0, 'showcode.php?id=282&nm=ashadullah ': 0, 'showcode.php?id=283&nm=ashadullah ': 0, 'setcontest.php ': 0, 'dcss/bootstrap-datetimepicker.min.css ': 0, 'djs/vendor/bootstrap-datetimepicker.js ': 0, 'dboot/js/bootstrap.min.js ': 0, 'djquery/jquery-1.8.3.min.js ': 0, 'djs/bootstrap-datetimepicker.js ': 0, 'fonts/glyphicons-halflings-regular.woff2 ': 0, 'editcontest.php?name=RUET%20OJ%20TLE%20Testing%20Contest ': 0, 'profile.php?user=Shawon ': 0, 'edit.php?name=shawon ': 0, 'edit.php?name=ashadullah ': 0, 'showcode.php?id=280&nm=shawon ': 0, 'fonts/fontawesome-webfont.eot? ': 0, 'details.php?id=38 ': 0, 'fonts/glyphicons-halflings-regular.woff ': 0, 'contestshowcode.php?id=339&nm=shawon&cn=13 ': 0, 'contestshowcode.php?id=338&nm=shawon&cn=13 ': 0, 'createadmin.php ': 0, 'contestproblem.php?name=RUET%20OJ%20Testing%20Contest%203 ': 0, 'contestsubmission.php?id=12 ': 0, 'contestproblem.php?name=RUET%20CSE%20Contest%203 ': 0, 'contestproblem.php?name=ROJ%20Testing%20Contest%201 ': 0, 'contestproblem.php?name=RUET%20OJ%20Testing%20Contest%202 ': 0, 'contestsubmission.php?id=11 ': 0, 'profile.php?user=st.zuhori ': 0, 'profile.php?user=Shawon_ICT ': 0, 'description.php?id=75 ': 0, 'profile.php?user=sanaul ': 0, 'contestsubmission.php?id=12&page=2 ': 0, 'profile.php?user=saif_1603035 ': 0, 'standings.php?id=12 ': 0, 'profile.php?user=xyz ': 0, 'contestsubmission.php?id=13&page=3 ': 0, 'contestsubmission.php?id=13&page=2 ': 0, 'profile.php?user=emrul_mu ': 0, 'contestsubmission.php?id=13&page=4 ': 0, 'showcode.php?id=222&nm=nasif25 ': 0, 'showcode.php?id=193&nm=shawon ': 0, 'description.php?name=Google%20feeling%20lucky. ': 0, 'setcontestproblem.php ': 0, 'details.php?name=Chessboard&cod=7 ': 0, 'editcontest.php?name=RUET%20OJ%20Server%20Testing%20Contest ': 0, 'countdown.php?name=Another%20Multiplication%20Game ': 0, 'countdown.php ': 0, 'profile.php?user=mkarzymat ': 0, 'fonts/fontawesome-webfont.eot?v=4.6.3 ': 0, 'description.php ': 0, 'profile.php?user=Shawon14012 ': 0, 'edit.php?name=Shawon14012 ': 0, 'showcode.php?id=300&nm=x ': 0, 'showcode.php?id=301&nm=Shawon14012 ': 0, 'profile.php?user=sammm ': 0, 'description.php?id=55%27 ': 0, 'details.php?id=35 ': 0, 'details.php?id=34 ': 0, 'details.php?id=36 ': 0, 'details.php?id=37 ': 0, 'profile.php?user=uva ': 0, 'submit.php?id=71 ': 0, 'showcode.php?id=304&nm=vinoth ': 0, 'showcode.php?id=218&nm=shawon ': 0, 'adminpanel.php ': 0, 'edit.php ': 0, 'standings.php?id=14 ': 0, 'contestsubmission.php?id=14&show=shawon ': 0, 'standings.php?id=4 ': 0, 'contestsubmission.php?id=4&show=shawon ': 0, 'contestsubmission.php?id=10&show=shawon ': 0, 'details.php?id=20 ': 0, 'description.php?name=IP%20Checking ': 0, 'profile.php?user=ham05 ': 0, 'edit.php?name=ham05 ': 0, 'profile.php?user=abc145 ': 0, 'allsubmission.php?name=abc145 ': 0, 'profile.php?user=qruiger_116 ': 0, 'allsubmission.php?name=ham05 ': 0, 'profile.php?user=Aslan ': 0, 'edit.php?name=Aslan ': 0, 'showcode.php?id=308&nm=ham05 ': 0, 'showcode.php?id=313&nm=abc145 ': 0, 'showcode.php?id=309&nm=ham05 ': 0}\n"
     ]
    }
   ],
   "source": [
    "\n",
    "try:\n",
    "    fhand=open('weblog.txt','r')\n",
    "except:\n",
    "    print('File cannot be opened')\n",
    "    exit()\n",
    "    \n",
    "list2=[]\n",
    "for url in fhand:\n",
    "    url=url.rstrip()\n",
    "    url_1=re.findall('/([a-z].+)H',url)\n",
    "    list2.extend(url_1)\n",
    "                  \n",
    "dict1={}\n",
    "for dt in list2:\n",
    "    dict1[dt]=list2.count(url_1)\n",
    "print(dict1)\n",
    "fhand.close()"
   ]
  },
  {
   "cell_type": "code",
   "execution_count": 56,
   "metadata": {},
   "outputs": [],
   "source": [
    "#Q4.Display the total count of HTTP GET requests and HTTP POST requests"
   ]
  },
  {
   "cell_type": "code",
   "execution_count": 55,
   "metadata": {},
   "outputs": [
    {
     "name": "stdout",
     "output_type": "stream",
     "text": [
      "{'GET': 15098, 'POST': 682}\n"
     ]
    }
   ],
   "source": [
    "try:\n",
    "    fhand=open('weblog.txt','r')\n",
    "except:\n",
    "    print('File cannot be opened')\n",
    "    exit()\n",
    "    \n",
    "list2=[]\n",
    "for url4 in fhand:\n",
    "    url4=url4.rstrip()\n",
    "    url_12=re.findall('GET|POST',url4)\n",
    "    list2.extend(url_12)\n",
    "                  \n",
    "dict1={}\n",
    "for dt in list2:\n",
    "    dict1[dt]=list2.count(dt)\n",
    "print(dict1)\n",
    "fhand.close()"
   ]
  },
  {
   "cell_type": "code",
   "execution_count": 57,
   "metadata": {},
   "outputs": [],
   "source": [
    "#Q5.Create a dictionary Status_Code where key is the status code, and value is a tuple consisting of a string stating \n",
    "#meaning of the code and a number indicating the frequency of that code in the file. For example, {200:(“Success”, 53),\n",
    "#404: (“File Not Found”,4)} indicates 200 is the code to indicate ‘Success’, and there are 53 such transactions\n"
   ]
  },
  {
   "cell_type": "code",
   "execution_count": 63,
   "metadata": {},
   "outputs": [
    {
     "name": "stdout",
     "output_type": "stream",
     "text": [
      "{'200': 11330, '302': 3498, '304': 658, '206': 52, '404': 251}\n"
     ]
    }
   ],
   "source": [
    "try:\n",
    "    fhand=open('weblog.txt','r')\n",
    "except:\n",
    "    print('File cannot be opened')\n",
    "    exit()\n",
    "list2=[]\n",
    "for url15 in fhand:\n",
    "    url15=url15.rstrip()\n",
    "    url_15=re.findall('\\d+$',url15)\n",
    "    list2.extend(url_15)\n",
    "dict1={}\n",
    "for dt in list2:\n",
    "    dict1[dt]=list2.count(dt)\n",
    "print(dict1)\n",
    "fhand.close()\n",
    "    \n",
    "    "
   ]
  },
  {
   "cell_type": "code",
   "execution_count": 58,
   "metadata": {},
   "outputs": [
    {
     "data": {
      "text/plain": [
       "['200']"
      ]
     },
     "execution_count": 58,
     "metadata": {},
     "output_type": "execute_result"
    }
   ],
   "source": [
    "url_15=re.findall('\\d+$',line)\n",
    "url_15"
   ]
  },
  {
   "cell_type": "code",
   "execution_count": null,
   "metadata": {},
   "outputs": [],
   "source": []
  }
 ],
 "metadata": {
  "kernelspec": {
   "display_name": "Python 3",
   "language": "python",
   "name": "python3"
  },
  "language_info": {
   "codemirror_mode": {
    "name": "ipython",
    "version": 3
   },
   "file_extension": ".py",
   "mimetype": "text/x-python",
   "name": "python",
   "nbconvert_exporter": "python",
   "pygments_lexer": "ipython3",
   "version": "3.7.1"
  }
 },
 "nbformat": 4,
 "nbformat_minor": 2
}
