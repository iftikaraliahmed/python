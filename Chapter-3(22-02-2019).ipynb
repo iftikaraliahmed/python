{
 "cells": [
  {
   "cell_type": "code",
   "execution_count": 1,
   "metadata": {},
   "outputs": [],
   "source": [
    "import numpy as np\n",
    "import pandas as pd"
   ]
  },
  {
   "cell_type": "code",
   "execution_count": 2,
   "metadata": {},
   "outputs": [
    {
     "data": {
      "text/plain": [
       "A      Arpan\n",
       "K    Karthik\n",
       "V     Vikram\n",
       "dtype: object"
      ]
     },
     "execution_count": 2,
     "metadata": {},
     "output_type": "execute_result"
    }
   ],
   "source": [
    "k =pd.Series([\"Arpan\",\"Karthik\",\"Vikram\"],index=[\"A\",\"K\",\"V\"])\n",
    "k"
   ]
  },
  {
   "cell_type": "code",
   "execution_count": 3,
   "metadata": {},
   "outputs": [
    {
     "data": {
      "text/plain": [
       "Reliance          10000\n",
       "Canara_Rebeco     12543\n",
       "Aditya_Birla     564536\n",
       "Tata             998478\n",
       "dtype: int64"
      ]
     },
     "execution_count": 3,
     "metadata": {},
     "output_type": "execute_result"
    }
   ],
   "source": [
    "dict1 = {\"Reliance\":10000,\"Canara_Rebeco\":12543,\"Aditya_Birla\":564536, \"Tata\":998478}\n",
    "#x = pd.Series(dict1,index=[\"Aditya_Birla\",\"Canara_Rebeco\",\"Reliance\",\"Tata\"])#giving oreder\n",
    "x=pd.Series(dict1)\n",
    "x"
   ]
  },
  {
   "cell_type": "code",
   "execution_count": 4,
   "metadata": {},
   "outputs": [
    {
     "data": {
      "text/plain": [
       "January       1\n",
       "February      2\n",
       "March         3\n",
       "April         4\n",
       "May           5\n",
       "June          6\n",
       "July          7\n",
       "August        8\n",
       "September     9\n",
       "October      10\n",
       "November     11\n",
       "dtype: int32"
      ]
     },
     "execution_count": 4,
     "metadata": {},
     "output_type": "execute_result"
    }
   ],
   "source": [
    "import calendar as cal\n",
    "name_of_month = [cal.month_name[i] for i in np.arange(1,12)]\n",
    "month_of_year = pd.Series(np.arange(1,12), index=name_of_month)\n",
    "month_of_year"
   ]
  },
  {
   "cell_type": "code",
   "execution_count": 5,
   "metadata": {},
   "outputs": [
    {
     "data": {
      "text/plain": [
       "R     10000\n",
       "C     12543\n",
       "A    564536\n",
       "T    998478\n",
       "dtype: int64"
      ]
     },
     "execution_count": 5,
     "metadata": {},
     "output_type": "execute_result"
    }
   ],
   "source": [
    "dict1 = {'R':10000,'C':12543,'A':564536, 'T':998478}\n",
    "#x = pd.Series(dict1,index=[\"Aditya_Birla\",\"Canara_Rebeco\",\"Reliance\",\"Tata\"])#giving oreder\n",
    "x=pd.Series(dict1)\n",
    "x"
   ]
  },
  {
   "cell_type": "code",
   "execution_count": 6,
   "metadata": {},
   "outputs": [
    {
     "data": {
      "text/plain": [
       "A    564536\n",
       "C     12543\n",
       "R     10000\n",
       "T    998478\n",
       "dtype: int64"
      ]
     },
     "execution_count": 6,
     "metadata": {},
     "output_type": "execute_result"
    }
   ],
   "source": [
    "x.sort_index()"
   ]
  },
  {
   "cell_type": "code",
   "execution_count": 7,
   "metadata": {},
   "outputs": [],
   "source": [
    "##operation on series\n",
    "x[\"A\"]=10000000000"
   ]
  },
  {
   "cell_type": "code",
   "execution_count": 8,
   "metadata": {},
   "outputs": [
    {
     "data": {
      "text/plain": [
       "R          10000\n",
       "C          12543\n",
       "A    10000000000\n",
       "T         998478\n",
       "dtype: int64"
      ]
     },
     "execution_count": 8,
     "metadata": {},
     "output_type": "execute_result"
    }
   ],
   "source": [
    "x"
   ]
  },
  {
   "cell_type": "code",
   "execution_count": 9,
   "metadata": {},
   "outputs": [
    {
     "data": {
      "text/plain": [
       "R     10000\n",
       "C     12543\n",
       "A    564536\n",
       "T    998478\n",
       "dtype: int64"
      ]
     },
     "execution_count": 9,
     "metadata": {},
     "output_type": "execute_result"
    }
   ],
   "source": [
    "dict1 = {'R':10000,'C':12543,'A':564536, 'T':998478}\n",
    "#x = pd.Series(dict1,index=[\"Aditya_Birla\",\"Canara_Rebeco\",\"Reliance\",\"Tata\"])#giving oreder\n",
    "x=pd.Series(dict1)\n",
    "x"
   ]
  },
  {
   "cell_type": "code",
   "execution_count": 10,
   "metadata": {},
   "outputs": [
    {
     "data": {
      "text/plain": [
       "C     12543\n",
       "A    564536\n",
       "T    998478\n",
       "dtype: int64"
      ]
     },
     "execution_count": 10,
     "metadata": {},
     "output_type": "execute_result"
    }
   ],
   "source": [
    "x[x>10000]"
   ]
  },
  {
   "cell_type": "code",
   "execution_count": 11,
   "metadata": {},
   "outputs": [
    {
     "data": {
      "text/plain": [
       "396389.25"
      ]
     },
     "execution_count": 11,
     "metadata": {},
     "output_type": "execute_result"
    }
   ],
   "source": [
    "np.mean(x)"
   ]
  },
  {
   "cell_type": "code",
   "execution_count": 12,
   "metadata": {},
   "outputs": [
    {
     "data": {
      "text/plain": [
       "0     1\n",
       "1     4\n",
       "2     9\n",
       "3    16\n",
       "dtype: int64"
      ]
     },
     "execution_count": 12,
     "metadata": {},
     "output_type": "execute_result"
    }
   ],
   "source": [
    "#multiplication\n",
    "x = np.array([1,2,3,4])*pd.Series([1,2,3,4])\n",
    "x"
   ]
  },
  {
   "cell_type": "code",
   "execution_count": 13,
   "metadata": {},
   "outputs": [
    {
     "data": {
      "text/plain": [
       "0     NaN\n",
       "1     8.0\n",
       "2    18.0\n",
       "3     NaN\n",
       "dtype: float64"
      ]
     },
     "execution_count": 13,
     "metadata": {},
     "output_type": "execute_result"
    }
   ],
   "source": [
    "a = x[:-1]\n",
    "b = x[1:]\n",
    "add = a+b\n",
    "#x = pd.Series(add)\n",
    "add"
   ]
  },
  {
   "cell_type": "code",
   "execution_count": 14,
   "metadata": {},
   "outputs": [
    {
     "data": {
      "text/plain": [
       "0    1.0\n",
       "1    2.0\n",
       "2    3.0\n",
       "3    4.0\n",
       "dtype: float64"
      ]
     },
     "execution_count": 14,
     "metadata": {},
     "output_type": "execute_result"
    }
   ],
   "source": [
    "np.sqrt(x)"
   ]
  },
  {
   "cell_type": "markdown",
   "metadata": {},
   "source": [
    "# creating dataframe"
   ]
  },
  {
   "cell_type": "code",
   "execution_count": 22,
   "metadata": {},
   "outputs": [],
   "source": [
    "dict1 =pd.DataFrame()\n"
   ]
  },
  {
   "cell_type": "code",
   "execution_count": 16,
   "metadata": {},
   "outputs": [],
   "source": [
    "ke = pd.Series({\"Reliance\":\"Sunaday\",\"Canara_Rebeco\":\"Monday\",\"Aditya_Birla\":\"Tuesday\", \"Tata\":\"Wednesday\"})"
   ]
  },
  {
   "cell_type": "code",
   "execution_count": 17,
   "metadata": {},
   "outputs": [
    {
     "data": {
      "text/plain": [
       "Reliance           Sunaday\n",
       "Canara_Rebeco       Monday\n",
       "Aditya_Birla       Tuesday\n",
       "Tata             Wednesday\n",
       "dtype: object"
      ]
     },
     "execution_count": 17,
     "metadata": {},
     "output_type": "execute_result"
    }
   ],
   "source": [
    "ke"
   ]
  },
  {
   "cell_type": "code",
   "execution_count": 18,
   "metadata": {},
   "outputs": [
    {
     "data": {
      "text/plain": [
       "{'Reliance': 0     10000\n",
       " 1      1287\n",
       " 2     53653\n",
       " 3      7376\n",
       " 4    676715\n",
       " 5     61753\n",
       " 6     45254\n",
       " dtype: int64, 'Canara_Rebeco': 0       12543\n",
       " 1       63562\n",
       " 2      785786\n",
       " 3       84867\n",
       " 4    78482764\n",
       " 5       26476\n",
       " 6       62526\n",
       " dtype: int64}"
      ]
     },
     "execution_count": 18,
     "metadata": {},
     "output_type": "execute_result"
    }
   ],
   "source": [
    "#create a dectionary of series\n",
    "dict1 ={\"Reliance\":pd.Series([10000,1287,53653,7376,676715,61753,45254]),\"Canara_Rebeco\":pd.Series([12543,63562,785786,84867,78482764,26476,62526])}\n",
    "dict1"
   ]
  },
  {
   "cell_type": "code",
   "execution_count": 19,
   "metadata": {},
   "outputs": [],
   "source": [
    "x = pd.DataFrame(dict1)"
   ]
  },
  {
   "cell_type": "code",
   "execution_count": 20,
   "metadata": {},
   "outputs": [
    {
     "data": {
      "text/plain": [
       "pandas.core.frame.DataFrame"
      ]
     },
     "execution_count": 20,
     "metadata": {},
     "output_type": "execute_result"
    }
   ],
   "source": [
    "type(x)"
   ]
  },
  {
   "cell_type": "code",
   "execution_count": 21,
   "metadata": {},
   "outputs": [
    {
     "data": {
      "text/html": [
       "<div>\n",
       "<style scoped>\n",
       "    .dataframe tbody tr th:only-of-type {\n",
       "        vertical-align: middle;\n",
       "    }\n",
       "\n",
       "    .dataframe tbody tr th {\n",
       "        vertical-align: top;\n",
       "    }\n",
       "\n",
       "    .dataframe thead th {\n",
       "        text-align: right;\n",
       "    }\n",
       "</style>\n",
       "<table border=\"1\" class=\"dataframe\">\n",
       "  <thead>\n",
       "    <tr style=\"text-align: right;\">\n",
       "      <th></th>\n",
       "      <th>Reliance</th>\n",
       "      <th>Canara_Rebeco</th>\n",
       "    </tr>\n",
       "  </thead>\n",
       "  <tbody>\n",
       "    <tr>\n",
       "      <th>0</th>\n",
       "      <td>10000</td>\n",
       "      <td>12543</td>\n",
       "    </tr>\n",
       "    <tr>\n",
       "      <th>1</th>\n",
       "      <td>1287</td>\n",
       "      <td>63562</td>\n",
       "    </tr>\n",
       "    <tr>\n",
       "      <th>2</th>\n",
       "      <td>53653</td>\n",
       "      <td>785786</td>\n",
       "    </tr>\n",
       "    <tr>\n",
       "      <th>3</th>\n",
       "      <td>7376</td>\n",
       "      <td>84867</td>\n",
       "    </tr>\n",
       "    <tr>\n",
       "      <th>4</th>\n",
       "      <td>676715</td>\n",
       "      <td>78482764</td>\n",
       "    </tr>\n",
       "    <tr>\n",
       "      <th>5</th>\n",
       "      <td>61753</td>\n",
       "      <td>26476</td>\n",
       "    </tr>\n",
       "    <tr>\n",
       "      <th>6</th>\n",
       "      <td>45254</td>\n",
       "      <td>62526</td>\n",
       "    </tr>\n",
       "  </tbody>\n",
       "</table>\n",
       "</div>"
      ],
      "text/plain": [
       "   Reliance  Canara_Rebeco\n",
       "0     10000          12543\n",
       "1      1287          63562\n",
       "2     53653         785786\n",
       "3      7376          84867\n",
       "4    676715       78482764\n",
       "5     61753          26476\n",
       "6     45254          62526"
      ]
     },
     "execution_count": 21,
     "metadata": {},
     "output_type": "execute_result"
    }
   ],
   "source": [
    "x"
   ]
  },
  {
   "cell_type": "code",
   "execution_count": null,
   "metadata": {},
   "outputs": [],
   "source": [
    "dict1 ={\"Reliance\":[10000,1287,53653,7376,676715,61753,45254],\"Canara_Rebeco\":[12543,63562,785786,84867,78482764,26476,62526]}\n",
    "dict1"
   ]
  },
  {
   "cell_type": "code",
   "execution_count": null,
   "metadata": {},
   "outputs": [],
   "source": [
    "pd.DataFrame(dict1)"
   ]
  },
  {
   "cell_type": "code",
   "execution_count": null,
   "metadata": {},
   "outputs": [],
   "source": [
    "k=[10000,1287,53653,7376,676715,61753,45254]\n",
    "pd.DataFrame(k,columns=[\"ARPAN\"],index=[\"K\",\"A\",\"R\",\"T\",\"H\",\"I\",\"K\"])"
   ]
  },
  {
   "cell_type": "code",
   "execution_count": null,
   "metadata": {},
   "outputs": [],
   "source": [
    "#structured array\n",
    "df3 = np.zeros((4,),dtype = [(\"Name\",\"U25\"),(\"Gender\",\"U10\")])#creating empty dataframe\n",
    "df3"
   ]
  },
  {
   "cell_type": "code",
   "execution_count": null,
   "metadata": {},
   "outputs": [],
   "source": [
    "df3[\"Name\"]=[\"RAM\",\"ARPAN\",\"KARTHIK\",\"VIKRAM\"]#or can same using df[:]=[(\"name\",Gender),..............]\n",
    "df3[\"Gender\"]=[\"Male\",\"Female\",\"Male\",\"Tran_Gender\"]\n",
    "df3"
   ]
  },
  {
   "cell_type": "code",
   "execution_count": null,
   "metadata": {},
   "outputs": [],
   "source": [
    "pd.DataFrame(df3)"
   ]
  },
  {
   "cell_type": "code",
   "execution_count": null,
   "metadata": {},
   "outputs": [],
   "source": [
    "#creating a dataframe from a series\n",
    "dict1 = {\"Reliance\":10000,\"Canara_Rebeco\":12543,\"Aditya_Birla\":564536, \"Tata\":998478}\n",
    "ser2 = pd.Series(dict1,index=[\"Aditya_Birla\",\"Canara_Rebeco\",\"Tata\",\"Reliance\"])"
   ]
  },
  {
   "cell_type": "code",
   "execution_count": null,
   "metadata": {},
   "outputs": [],
   "source": [
    "pd.DataFrame(ser2)"
   ]
  },
  {
   "cell_type": "code",
   "execution_count": 2,
   "metadata": {},
   "outputs": [
    {
     "data": {
      "text/html": [
       "<div>\n",
       "<style scoped>\n",
       "    .dataframe tbody tr th:only-of-type {\n",
       "        vertical-align: middle;\n",
       "    }\n",
       "\n",
       "    .dataframe tbody tr th {\n",
       "        vertical-align: top;\n",
       "    }\n",
       "\n",
       "    .dataframe thead th {\n",
       "        text-align: right;\n",
       "    }\n",
       "</style>\n",
       "<table border=\"1\" class=\"dataframe\">\n",
       "  <thead>\n",
       "    <tr style=\"text-align: right;\">\n",
       "      <th></th>\n",
       "      <th>0</th>\n",
       "      <th>1</th>\n",
       "    </tr>\n",
       "  </thead>\n",
       "  <tbody>\n",
       "    <tr>\n",
       "      <th>Reliance</th>\n",
       "      <td>10000</td>\n",
       "      <td>7765</td>\n",
       "    </tr>\n",
       "    <tr>\n",
       "      <th>Canara_Rebeco</th>\n",
       "      <td>12543</td>\n",
       "      <td>7636556</td>\n",
       "    </tr>\n",
       "    <tr>\n",
       "      <th>Aditya_Birla</th>\n",
       "      <td>564536</td>\n",
       "      <td>4254</td>\n",
       "    </tr>\n",
       "    <tr>\n",
       "      <th>Tata</th>\n",
       "      <td>998478</td>\n",
       "      <td>898</td>\n",
       "    </tr>\n",
       "  </tbody>\n",
       "</table>\n",
       "</div>"
      ],
      "text/plain": [
       "                    0        1\n",
       "Reliance        10000     7765\n",
       "Canara_Rebeco   12543  7636556\n",
       "Aditya_Birla   564536     4254\n",
       "Tata           998478      898"
      ]
     },
     "execution_count": 2,
     "metadata": {},
     "output_type": "execute_result"
    }
   ],
   "source": [
    "dict1 = {\"Reliance\":10000,\"Canara_Rebeco\":12543,\"Aditya_Birla\":564536, \"Tata\":998478}\n",
    "dict2 = {'Reliance':7765,'Canara_Rebeco':7636556,'Aditya_Birla':4254, 'Tata':898}\n",
    "ser2 = pd.Series(dict1)\n",
    "st3 = pd.Series(dict2)\n",
    "ser4 = pd.concat([ser2,st3],axis=1)\n",
    "#ser5=pd.DataFrame(ser4,columns=[\"stock_value1\",\"stock_value2\"])\n",
    "ser4\n",
    "\n"
   ]
  },
  {
   "cell_type": "code",
   "execution_count": 3,
   "metadata": {},
   "outputs": [
    {
     "data": {
      "text/html": [
       "<div>\n",
       "<style scoped>\n",
       "    .dataframe tbody tr th:only-of-type {\n",
       "        vertical-align: middle;\n",
       "    }\n",
       "\n",
       "    .dataframe tbody tr th {\n",
       "        vertical-align: top;\n",
       "    }\n",
       "\n",
       "    .dataframe thead th {\n",
       "        text-align: right;\n",
       "    }\n",
       "</style>\n",
       "<table border=\"1\" class=\"dataframe\">\n",
       "  <thead>\n",
       "    <tr style=\"text-align: right;\">\n",
       "      <th></th>\n",
       "      <th>stock_value1</th>\n",
       "      <th>stock_value2</th>\n",
       "    </tr>\n",
       "  </thead>\n",
       "  <tbody>\n",
       "    <tr>\n",
       "      <th>Reliance</th>\n",
       "      <td>10000</td>\n",
       "      <td>7765</td>\n",
       "    </tr>\n",
       "    <tr>\n",
       "      <th>Canara_Rebeco</th>\n",
       "      <td>12543</td>\n",
       "      <td>7636556</td>\n",
       "    </tr>\n",
       "    <tr>\n",
       "      <th>Aditya_Birla</th>\n",
       "      <td>564536</td>\n",
       "      <td>4254</td>\n",
       "    </tr>\n",
       "    <tr>\n",
       "      <th>Tata</th>\n",
       "      <td>998478</td>\n",
       "      <td>898</td>\n",
       "    </tr>\n",
       "  </tbody>\n",
       "</table>\n",
       "</div>"
      ],
      "text/plain": [
       "               stock_value1  stock_value2\n",
       "Reliance              10000          7765\n",
       "Canara_Rebeco         12543       7636556\n",
       "Aditya_Birla         564536          4254\n",
       "Tata                 998478           898"
      ]
     },
     "execution_count": 3,
     "metadata": {},
     "output_type": "execute_result"
    }
   ],
   "source": [
    "ser4.columns=[\"stock_value1\",\"stock_value2\"]\n",
    "ser4"
   ]
  },
  {
   "cell_type": "code",
   "execution_count": 3,
   "metadata": {},
   "outputs": [],
   "source": [
    "dict1 = {\"Reliance\":10000,\"Canara_Rebeco\":12543,\"Aditya_Birla\":564536, \"Tata\":998478}\n",
    "dict2 = {'Reliance':7765,'Canara_Rebeco':7636556,'Aditya_Birla':4254, 'Tata':898}\n",
    "\n",
    "\n",
    "\n"
   ]
  },
  {
   "cell_type": "code",
   "execution_count": 1,
   "metadata": {},
   "outputs": [
    {
     "ename": "NameError",
     "evalue": "name 'dict1' is not defined",
     "output_type": "error",
     "traceback": [
      "\u001b[1;31m---------------------------------------------------------------------------\u001b[0m",
      "\u001b[1;31mNameError\u001b[0m                                 Traceback (most recent call last)",
      "\u001b[1;32m<ipython-input-1-09acccbbe8ee>\u001b[0m in \u001b[0;36m<module>\u001b[1;34m\u001b[0m\n\u001b[0;32m      1\u001b[0m \u001b[1;32mimport\u001b[0m \u001b[0mpandas\u001b[0m \u001b[1;32mas\u001b[0m \u001b[0mpd\u001b[0m\u001b[1;33m\u001b[0m\u001b[1;33m\u001b[0m\u001b[0m\n\u001b[1;32m----> 2\u001b[1;33m \u001b[0mser2\u001b[0m \u001b[1;33m=\u001b[0m \u001b[0mpd\u001b[0m\u001b[1;33m.\u001b[0m\u001b[0mSeries\u001b[0m\u001b[1;33m(\u001b[0m\u001b[0mdict1\u001b[0m\u001b[1;33m,\u001b[0m\u001b[0mindex\u001b[0m \u001b[1;33m=\u001b[0m \u001b[1;33m[\u001b[0m\u001b[1;34m'Reliance'\u001b[0m\u001b[1;33m,\u001b[0m\u001b[1;34m'Canara_Rebeco'\u001b[0m\u001b[1;33m,\u001b[0m \u001b[1;34m'Aditya_Birla'\u001b[0m\u001b[1;33m,\u001b[0m\u001b[1;34m'Tata'\u001b[0m\u001b[1;33m]\u001b[0m\u001b[1;33m)\u001b[0m\u001b[1;33m\u001b[0m\u001b[1;33m\u001b[0m\u001b[0m\n\u001b[0m\u001b[0;32m      3\u001b[0m \u001b[0mst3\u001b[0m \u001b[1;33m=\u001b[0m \u001b[0mpd\u001b[0m\u001b[1;33m.\u001b[0m\u001b[0mSeries\u001b[0m\u001b[1;33m(\u001b[0m\u001b[0mdict2\u001b[0m\u001b[1;33m,\u001b[0m\u001b[0mindex\u001b[0m \u001b[1;33m=\u001b[0m \u001b[1;33m[\u001b[0m\u001b[1;34m'Reliance'\u001b[0m\u001b[1;33m,\u001b[0m\u001b[1;34m'Canara_Rebeco'\u001b[0m\u001b[1;33m,\u001b[0m \u001b[1;34m'Aditya_Birla'\u001b[0m\u001b[1;33m,\u001b[0m\u001b[1;34m'Tata'\u001b[0m\u001b[1;33m]\u001b[0m\u001b[1;33m)\u001b[0m\u001b[1;33m\u001b[0m\u001b[1;33m\u001b[0m\u001b[0m\n",
      "\u001b[1;31mNameError\u001b[0m: name 'dict1' is not defined"
     ]
    }
   ],
   "source": [
    "import pandas as pd\n",
    "ser2 = pd.Series(dict1,index = ['Reliance','Canara_Rebeco', 'Aditya_Birla','Tata'])\n",
    "st3 = pd.Series(dict2,index = ['Reliance','Canara_Rebeco', 'Aditya_Birla','Tata'])"
   ]
  },
  {
   "cell_type": "code",
   "execution_count": 5,
   "metadata": {},
   "outputs": [
    {
     "data": {
      "text/html": [
       "<div>\n",
       "<style scoped>\n",
       "    .dataframe tbody tr th:only-of-type {\n",
       "        vertical-align: middle;\n",
       "    }\n",
       "\n",
       "    .dataframe tbody tr th {\n",
       "        vertical-align: top;\n",
       "    }\n",
       "\n",
       "    .dataframe thead th {\n",
       "        text-align: right;\n",
       "    }\n",
       "</style>\n",
       "<table border=\"1\" class=\"dataframe\">\n",
       "  <thead>\n",
       "    <tr style=\"text-align: right;\">\n",
       "      <th></th>\n",
       "      <th>0</th>\n",
       "      <th>1</th>\n",
       "    </tr>\n",
       "  </thead>\n",
       "  <tbody>\n",
       "    <tr>\n",
       "      <th>Reliance</th>\n",
       "      <td>10000</td>\n",
       "      <td>7765</td>\n",
       "    </tr>\n",
       "    <tr>\n",
       "      <th>Canara_Rebeco</th>\n",
       "      <td>12543</td>\n",
       "      <td>7636556</td>\n",
       "    </tr>\n",
       "    <tr>\n",
       "      <th>Aditya_Birla</th>\n",
       "      <td>564536</td>\n",
       "      <td>4254</td>\n",
       "    </tr>\n",
       "    <tr>\n",
       "      <th>Tata</th>\n",
       "      <td>998478</td>\n",
       "      <td>898</td>\n",
       "    </tr>\n",
       "  </tbody>\n",
       "</table>\n",
       "</div>"
      ],
      "text/plain": [
       "                    0        1\n",
       "Reliance        10000     7765\n",
       "Canara_Rebeco   12543  7636556\n",
       "Aditya_Birla   564536     4254\n",
       "Tata           998478      898"
      ]
     },
     "execution_count": 5,
     "metadata": {},
     "output_type": "execute_result"
    }
   ],
   "source": [
    "ser4 = pd.concat([ser2,st3],axis=1)\n",
    "ser4"
   ]
  },
  {
   "cell_type": "code",
   "execution_count": 9,
   "metadata": {},
   "outputs": [
    {
     "data": {
      "text/plain": [
       "564536    1\n",
       "12543     1\n",
       "998478    1\n",
       "10000     1\n",
       "Name: stock_value1, dtype: int64"
      ]
     },
     "execution_count": 9,
     "metadata": {},
     "output_type": "execute_result"
    }
   ],
   "source": [
    "ser4.stock_value1.value_counts()"
   ]
  },
  {
   "cell_type": "code",
   "execution_count": 1,
   "metadata": {},
   "outputs": [
    {
     "data": {
      "text/html": [
       "<div>\n",
       "<style scoped>\n",
       "    .dataframe tbody tr th:only-of-type {\n",
       "        vertical-align: middle;\n",
       "    }\n",
       "\n",
       "    .dataframe tbody tr th {\n",
       "        vertical-align: top;\n",
       "    }\n",
       "\n",
       "    .dataframe thead th {\n",
       "        text-align: right;\n",
       "    }\n",
       "</style>\n",
       "<table border=\"1\" class=\"dataframe\">\n",
       "  <thead>\n",
       "    <tr style=\"text-align: right;\">\n",
       "      <th></th>\n",
       "      <th>stockvalue1</th>\n",
       "      <th>stockvalue2</th>\n",
       "    </tr>\n",
       "  </thead>\n",
       "  <tbody>\n",
       "    <tr>\n",
       "      <th>Reliance</th>\n",
       "      <td>NaN</td>\n",
       "      <td>NaN</td>\n",
       "    </tr>\n",
       "    <tr>\n",
       "      <th>Canara_Rebeco</th>\n",
       "      <td>NaN</td>\n",
       "      <td>NaN</td>\n",
       "    </tr>\n",
       "    <tr>\n",
       "      <th>Aditya_Birla</th>\n",
       "      <td>NaN</td>\n",
       "      <td>NaN</td>\n",
       "    </tr>\n",
       "    <tr>\n",
       "      <th>Tata</th>\n",
       "      <td>NaN</td>\n",
       "      <td>NaN</td>\n",
       "    </tr>\n",
       "  </tbody>\n",
       "</table>\n",
       "</div>"
      ],
      "text/plain": [
       "               stockvalue1  stockvalue2\n",
       "Reliance               NaN          NaN\n",
       "Canara_Rebeco          NaN          NaN\n",
       "Aditya_Birla           NaN          NaN\n",
       "Tata                   NaN          NaN"
      ]
     },
     "execution_count": 1,
     "metadata": {},
     "output_type": "execute_result"
    }
   ],
   "source": [
    "import pandas as pd\n",
    "dict1 =pd.Series({\"Reliance\":10000,\"Canara_Rebeco\":12543,\"Aditya_Birla\":564536, \"Tata\":998478})\n",
    "dict2 =pd.Series({'Reliance':7765,'Canara_Rebeco':7636556,'Aditya_Birla':4254, 'Tata':898})\n",
    "\n",
    "ser4 = pd.concat([dict1,dict2],axis=1)\n",
    "ser5=pd.DataFrame(ser4,columns=(\"stockvalue1\",\"stockvalue2\"))\n",
    "ser5\n"
   ]
  },
  {
   "cell_type": "markdown",
   "metadata": {},
   "source": [
    "# ------------------------"
   ]
  },
  {
   "cell_type": "code",
   "execution_count": 11,
   "metadata": {},
   "outputs": [
    {
     "data": {
      "text/plain": [
       "Reliance          10000\n",
       "Canara_Rebeco     12543\n",
       "Aditya_Birla     564536\n",
       "Tata             998478\n",
       "Name: stock_value1, dtype: int64"
      ]
     },
     "execution_count": 11,
     "metadata": {},
     "output_type": "execute_result"
    }
   ],
   "source": [
    "#operation on Dataframe\n",
    "ser4.stock_value1"
   ]
  },
  {
   "cell_type": "code",
   "execution_count": 5,
   "metadata": {},
   "outputs": [
    {
     "data": {
      "text/plain": [
       "pandas.core.series.Series"
      ]
     },
     "execution_count": 5,
     "metadata": {},
     "output_type": "execute_result"
    }
   ],
   "source": [
    "type(ser4.stock_value1)"
   ]
  },
  {
   "cell_type": "code",
   "execution_count": 12,
   "metadata": {},
   "outputs": [
    {
     "data": {
      "text/html": [
       "<div>\n",
       "<style scoped>\n",
       "    .dataframe tbody tr th:only-of-type {\n",
       "        vertical-align: middle;\n",
       "    }\n",
       "\n",
       "    .dataframe tbody tr th {\n",
       "        vertical-align: top;\n",
       "    }\n",
       "\n",
       "    .dataframe thead th {\n",
       "        text-align: right;\n",
       "    }\n",
       "</style>\n",
       "<table border=\"1\" class=\"dataframe\">\n",
       "  <thead>\n",
       "    <tr style=\"text-align: right;\">\n",
       "      <th></th>\n",
       "      <th>stock_value1</th>\n",
       "      <th>stock_value2</th>\n",
       "    </tr>\n",
       "  </thead>\n",
       "  <tbody>\n",
       "    <tr>\n",
       "      <th>Reliance</th>\n",
       "      <td>10000</td>\n",
       "      <td>7765</td>\n",
       "    </tr>\n",
       "    <tr>\n",
       "      <th>Canara_Rebeco</th>\n",
       "      <td>12543</td>\n",
       "      <td>7636556</td>\n",
       "    </tr>\n",
       "  </tbody>\n",
       "</table>\n",
       "</div>"
      ],
      "text/plain": [
       "               stock_value1  stock_value2\n",
       "Reliance              10000          7765\n",
       "Canara_Rebeco         12543       7636556"
      ]
     },
     "execution_count": 12,
     "metadata": {},
     "output_type": "execute_result"
    }
   ],
   "source": [
    "ser4[:2]"
   ]
  },
  {
   "cell_type": "code",
   "execution_count": 30,
   "metadata": {},
   "outputs": [
    {
     "data": {
      "text/html": [
       "<div>\n",
       "<style scoped>\n",
       "    .dataframe tbody tr th:only-of-type {\n",
       "        vertical-align: middle;\n",
       "    }\n",
       "\n",
       "    .dataframe tbody tr th {\n",
       "        vertical-align: top;\n",
       "    }\n",
       "\n",
       "    .dataframe thead th {\n",
       "        text-align: right;\n",
       "    }\n",
       "</style>\n",
       "<table border=\"1\" class=\"dataframe\">\n",
       "  <thead>\n",
       "    <tr style=\"text-align: right;\">\n",
       "      <th></th>\n",
       "      <th>stock_value1</th>\n",
       "      <th>stock_value2</th>\n",
       "    </tr>\n",
       "  </thead>\n",
       "  <tbody>\n",
       "    <tr>\n",
       "      <th>Reliance</th>\n",
       "      <td>10000</td>\n",
       "      <td>7765</td>\n",
       "    </tr>\n",
       "    <tr>\n",
       "      <th>Canara_Rebeco</th>\n",
       "      <td>12543</td>\n",
       "      <td>7636556</td>\n",
       "    </tr>\n",
       "    <tr>\n",
       "      <th>Aditya_Birla</th>\n",
       "      <td>564536</td>\n",
       "      <td>4254</td>\n",
       "    </tr>\n",
       "    <tr>\n",
       "      <th>Tata</th>\n",
       "      <td>998478</td>\n",
       "      <td>898</td>\n",
       "    </tr>\n",
       "  </tbody>\n",
       "</table>\n",
       "</div>"
      ],
      "text/plain": [
       "               stock_value1  stock_value2\n",
       "Reliance              10000          7765\n",
       "Canara_Rebeco         12543       7636556\n",
       "Aditya_Birla         564536          4254\n",
       "Tata                 998478           898"
      ]
     },
     "execution_count": 30,
     "metadata": {},
     "output_type": "execute_result"
    }
   ],
   "source": [
    "ser4"
   ]
  },
  {
   "cell_type": "code",
   "execution_count": 19,
   "metadata": {},
   "outputs": [
    {
     "data": {
      "text/plain": [
       "998478"
      ]
     },
     "execution_count": 19,
     "metadata": {},
     "output_type": "execute_result"
    }
   ],
   "source": [
    "ser4[\"stock_value1\"][\"Tata\"]"
   ]
  },
  {
   "cell_type": "code",
   "execution_count": 32,
   "metadata": {},
   "outputs": [
    {
     "ename": "IndexError",
     "evalue": "index 3 is out of bounds for axis 0 with size 2",
     "output_type": "error",
     "traceback": [
      "\u001b[1;31m---------------------------------------------------------------------------\u001b[0m",
      "\u001b[1;31mIndexError\u001b[0m                                Traceback (most recent call last)",
      "\u001b[1;32m<ipython-input-32-62dbb65ba53c>\u001b[0m in \u001b[0;36m<module>\u001b[1;34m\u001b[0m\n\u001b[0;32m      1\u001b[0m \u001b[1;31m#del df[name column] for deleting\u001b[0m\u001b[1;33m\u001b[0m\u001b[1;33m\u001b[0m\u001b[1;33m\u001b[0m\u001b[0m\n\u001b[1;32m----> 2\u001b[1;33m \u001b[0mser4\u001b[0m\u001b[1;33m.\u001b[0m\u001b[0minsert\u001b[0m\u001b[1;33m(\u001b[0m\u001b[1;36m3\u001b[0m\u001b[1;33m,\u001b[0m\u001b[1;34m\"stock_value3\"\u001b[0m\u001b[1;33m,\u001b[0m\u001b[1;36m3000\u001b[0m\u001b[1;33m)\u001b[0m\u001b[1;33m\u001b[0m\u001b[1;33m\u001b[0m\u001b[0m\n\u001b[0m",
      "\u001b[1;32mC:\\ProgramData\\Anaconda3\\lib\\site-packages\\pandas\\core\\frame.py\u001b[0m in \u001b[0;36minsert\u001b[1;34m(self, loc, column, value, allow_duplicates)\u001b[0m\n\u001b[0;32m   3220\u001b[0m         \u001b[0mvalue\u001b[0m \u001b[1;33m=\u001b[0m \u001b[0mself\u001b[0m\u001b[1;33m.\u001b[0m\u001b[0m_sanitize_column\u001b[0m\u001b[1;33m(\u001b[0m\u001b[0mcolumn\u001b[0m\u001b[1;33m,\u001b[0m \u001b[0mvalue\u001b[0m\u001b[1;33m,\u001b[0m \u001b[0mbroadcast\u001b[0m\u001b[1;33m=\u001b[0m\u001b[1;32mFalse\u001b[0m\u001b[1;33m)\u001b[0m\u001b[1;33m\u001b[0m\u001b[1;33m\u001b[0m\u001b[0m\n\u001b[0;32m   3221\u001b[0m         self._data.insert(loc, column, value,\n\u001b[1;32m-> 3222\u001b[1;33m                           allow_duplicates=allow_duplicates)\n\u001b[0m\u001b[0;32m   3223\u001b[0m \u001b[1;33m\u001b[0m\u001b[0m\n\u001b[0;32m   3224\u001b[0m     \u001b[1;32mdef\u001b[0m \u001b[0massign\u001b[0m\u001b[1;33m(\u001b[0m\u001b[0mself\u001b[0m\u001b[1;33m,\u001b[0m \u001b[1;33m**\u001b[0m\u001b[0mkwargs\u001b[0m\u001b[1;33m)\u001b[0m\u001b[1;33m:\u001b[0m\u001b[1;33m\u001b[0m\u001b[1;33m\u001b[0m\u001b[0m\n",
      "\u001b[1;32mC:\\ProgramData\\Anaconda3\\lib\\site-packages\\pandas\\core\\internals.py\u001b[0m in \u001b[0;36minsert\u001b[1;34m(self, loc, item, value, allow_duplicates)\u001b[0m\n\u001b[0;32m   4362\u001b[0m             \u001b[0mself\u001b[0m\u001b[1;33m.\u001b[0m\u001b[0m_blknos\u001b[0m \u001b[1;33m=\u001b[0m \u001b[0mnp\u001b[0m\u001b[1;33m.\u001b[0m\u001b[0mappend\u001b[0m\u001b[1;33m(\u001b[0m\u001b[0mself\u001b[0m\u001b[1;33m.\u001b[0m\u001b[0m_blknos\u001b[0m\u001b[1;33m,\u001b[0m \u001b[0mlen\u001b[0m\u001b[1;33m(\u001b[0m\u001b[0mself\u001b[0m\u001b[1;33m.\u001b[0m\u001b[0mblocks\u001b[0m\u001b[1;33m)\u001b[0m\u001b[1;33m)\u001b[0m\u001b[1;33m\u001b[0m\u001b[1;33m\u001b[0m\u001b[0m\n\u001b[0;32m   4363\u001b[0m         \u001b[1;32melse\u001b[0m\u001b[1;33m:\u001b[0m\u001b[1;33m\u001b[0m\u001b[1;33m\u001b[0m\u001b[0m\n\u001b[1;32m-> 4364\u001b[1;33m             \u001b[0mself\u001b[0m\u001b[1;33m.\u001b[0m\u001b[0m_blklocs\u001b[0m \u001b[1;33m=\u001b[0m \u001b[0mnp\u001b[0m\u001b[1;33m.\u001b[0m\u001b[0minsert\u001b[0m\u001b[1;33m(\u001b[0m\u001b[0mself\u001b[0m\u001b[1;33m.\u001b[0m\u001b[0m_blklocs\u001b[0m\u001b[1;33m,\u001b[0m \u001b[0mloc\u001b[0m\u001b[1;33m,\u001b[0m \u001b[1;36m0\u001b[0m\u001b[1;33m)\u001b[0m\u001b[1;33m\u001b[0m\u001b[1;33m\u001b[0m\u001b[0m\n\u001b[0m\u001b[0;32m   4365\u001b[0m             \u001b[0mself\u001b[0m\u001b[1;33m.\u001b[0m\u001b[0m_blknos\u001b[0m \u001b[1;33m=\u001b[0m \u001b[0mnp\u001b[0m\u001b[1;33m.\u001b[0m\u001b[0minsert\u001b[0m\u001b[1;33m(\u001b[0m\u001b[0mself\u001b[0m\u001b[1;33m.\u001b[0m\u001b[0m_blknos\u001b[0m\u001b[1;33m,\u001b[0m \u001b[0mloc\u001b[0m\u001b[1;33m,\u001b[0m \u001b[0mlen\u001b[0m\u001b[1;33m(\u001b[0m\u001b[0mself\u001b[0m\u001b[1;33m.\u001b[0m\u001b[0mblocks\u001b[0m\u001b[1;33m)\u001b[0m\u001b[1;33m)\u001b[0m\u001b[1;33m\u001b[0m\u001b[1;33m\u001b[0m\u001b[0m\n\u001b[0;32m   4366\u001b[0m \u001b[1;33m\u001b[0m\u001b[0m\n",
      "\u001b[1;32mC:\\ProgramData\\Anaconda3\\lib\\site-packages\\numpy\\lib\\function_base.py\u001b[0m in \u001b[0;36minsert\u001b[1;34m(arr, obj, values, axis)\u001b[0m\n\u001b[0;32m   4415\u001b[0m             raise IndexError(\n\u001b[0;32m   4416\u001b[0m                 \u001b[1;34m\"index %i is out of bounds for axis %i with \"\u001b[0m\u001b[1;33m\u001b[0m\u001b[1;33m\u001b[0m\u001b[0m\n\u001b[1;32m-> 4417\u001b[1;33m                 \"size %i\" % (obj, axis, N))\n\u001b[0m\u001b[0;32m   4418\u001b[0m         \u001b[1;32mif\u001b[0m \u001b[1;33m(\u001b[0m\u001b[0mindex\u001b[0m \u001b[1;33m<\u001b[0m \u001b[1;36m0\u001b[0m\u001b[1;33m)\u001b[0m\u001b[1;33m:\u001b[0m\u001b[1;33m\u001b[0m\u001b[1;33m\u001b[0m\u001b[0m\n\u001b[0;32m   4419\u001b[0m             \u001b[0mindex\u001b[0m \u001b[1;33m+=\u001b[0m \u001b[0mN\u001b[0m\u001b[1;33m\u001b[0m\u001b[1;33m\u001b[0m\u001b[0m\n",
      "\u001b[1;31mIndexError\u001b[0m: index 3 is out of bounds for axis 0 with size 2"
     ]
    }
   ],
   "source": [
    "#del df[name column] for deleting\n",
    "ser4.insert(3,\"stock_value3\",3000)\n"
   ]
  },
  {
   "cell_type": "code",
   "execution_count": 33,
   "metadata": {},
   "outputs": [
    {
     "data": {
      "text/html": [
       "<div>\n",
       "<style scoped>\n",
       "    .dataframe tbody tr th:only-of-type {\n",
       "        vertical-align: middle;\n",
       "    }\n",
       "\n",
       "    .dataframe tbody tr th {\n",
       "        vertical-align: top;\n",
       "    }\n",
       "\n",
       "    .dataframe thead th {\n",
       "        text-align: right;\n",
       "    }\n",
       "</style>\n",
       "<table border=\"1\" class=\"dataframe\">\n",
       "  <thead>\n",
       "    <tr style=\"text-align: right;\">\n",
       "      <th></th>\n",
       "      <th>stock_value1</th>\n",
       "      <th>stock_value2</th>\n",
       "    </tr>\n",
       "  </thead>\n",
       "  <tbody>\n",
       "    <tr>\n",
       "      <th>Reliance</th>\n",
       "      <td>10000</td>\n",
       "      <td>7765</td>\n",
       "    </tr>\n",
       "    <tr>\n",
       "      <th>Canara_Rebeco</th>\n",
       "      <td>12543</td>\n",
       "      <td>7636556</td>\n",
       "    </tr>\n",
       "    <tr>\n",
       "      <th>Aditya_Birla</th>\n",
       "      <td>564536</td>\n",
       "      <td>4254</td>\n",
       "    </tr>\n",
       "    <tr>\n",
       "      <th>Tata</th>\n",
       "      <td>998478</td>\n",
       "      <td>898</td>\n",
       "    </tr>\n",
       "  </tbody>\n",
       "</table>\n",
       "</div>"
      ],
      "text/plain": [
       "               stock_value1  stock_value2\n",
       "Reliance              10000          7765\n",
       "Canara_Rebeco         12543       7636556\n",
       "Aditya_Birla         564536          4254\n",
       "Tata                 998478           898"
      ]
     },
     "execution_count": 33,
     "metadata": {},
     "output_type": "execute_result"
    }
   ],
   "source": [
    "ser4"
   ]
  },
  {
   "cell_type": "code",
   "execution_count": 76,
   "metadata": {},
   "outputs": [
    {
     "data": {
      "text/plain": [
       "{'France': {'2015-Q1': 99, '2015-Q2': 104.1, '2015-Q3': 304.0, '2015-Q4': 498},\n",
       " 'Germany': {'2015-Q1': 135.1,\n",
       "  '2015-Q2': 104,\n",
       "  '2015-Q3': 304.0,\n",
       "  '2015-Q4': 560.0},\n",
       " 'Poland': {'2015-Q1': 203.1,\n",
       "  '2015-Q2': 104.1,\n",
       "  '2015-Q3': 650.4,\n",
       "  '2015-Q4': 111}}"
      ]
     },
     "execution_count": 76,
     "metadata": {},
     "output_type": "execute_result"
    }
   ],
   "source": [
    "oil_data = {\"France\":{\"2015-Q1\":99,\"2015-Q2\":104.1,\"2015-Q3\":304.0,\"2015-Q4\":498},\n",
    "           \"Germany\":{\"2015-Q1\":135.1,\"2015-Q2\":104,\"2015-Q3\":304.0,\"2015-Q4\":560.0},\n",
    "           \"Poland\":{\"2015-Q1\":203.1,\"2015-Q2\":104.1,\"2015-Q3\":650.4,\"2015-Q4\":111}}\n",
    "oil_data"
   ]
  },
  {
   "cell_type": "code",
   "execution_count": 77,
   "metadata": {},
   "outputs": [
    {
     "data": {
      "text/html": [
       "<div>\n",
       "<style scoped>\n",
       "    .dataframe tbody tr th:only-of-type {\n",
       "        vertical-align: middle;\n",
       "    }\n",
       "\n",
       "    .dataframe tbody tr th {\n",
       "        vertical-align: top;\n",
       "    }\n",
       "\n",
       "    .dataframe thead th {\n",
       "        text-align: right;\n",
       "    }\n",
       "</style>\n",
       "<table border=\"1\" class=\"dataframe\">\n",
       "  <thead>\n",
       "    <tr style=\"text-align: right;\">\n",
       "      <th></th>\n",
       "      <th>France</th>\n",
       "      <th>Germany</th>\n",
       "      <th>Poland</th>\n",
       "    </tr>\n",
       "  </thead>\n",
       "  <tbody>\n",
       "    <tr>\n",
       "      <th>2015-Q1</th>\n",
       "      <td>99.0</td>\n",
       "      <td>135.1</td>\n",
       "      <td>203.1</td>\n",
       "    </tr>\n",
       "    <tr>\n",
       "      <th>2015-Q2</th>\n",
       "      <td>104.1</td>\n",
       "      <td>104.0</td>\n",
       "      <td>104.1</td>\n",
       "    </tr>\n",
       "    <tr>\n",
       "      <th>2015-Q3</th>\n",
       "      <td>304.0</td>\n",
       "      <td>304.0</td>\n",
       "      <td>650.4</td>\n",
       "    </tr>\n",
       "    <tr>\n",
       "      <th>2015-Q4</th>\n",
       "      <td>498.0</td>\n",
       "      <td>560.0</td>\n",
       "      <td>111.0</td>\n",
       "    </tr>\n",
       "  </tbody>\n",
       "</table>\n",
       "</div>"
      ],
      "text/plain": [
       "         France  Germany  Poland\n",
       "2015-Q1    99.0    135.1   203.1\n",
       "2015-Q2   104.1    104.0   104.1\n",
       "2015-Q3   304.0    304.0   650.4\n",
       "2015-Q4   498.0    560.0   111.0"
      ]
     },
     "execution_count": 77,
     "metadata": {},
     "output_type": "execute_result"
    }
   ],
   "source": [
    "oil_df = pd.DataFrame(oil_data)\n",
    "oil_df"
   ]
  },
  {
   "cell_type": "code",
   "execution_count": 38,
   "metadata": {},
   "outputs": [
    {
     "data": {
      "text/html": [
       "<div>\n",
       "<style scoped>\n",
       "    .dataframe tbody tr th:only-of-type {\n",
       "        vertical-align: middle;\n",
       "    }\n",
       "\n",
       "    .dataframe tbody tr th {\n",
       "        vertical-align: top;\n",
       "    }\n",
       "\n",
       "    .dataframe thead th {\n",
       "        text-align: right;\n",
       "    }\n",
       "</style>\n",
       "<table border=\"1\" class=\"dataframe\">\n",
       "  <thead>\n",
       "    <tr style=\"text-align: right;\">\n",
       "      <th></th>\n",
       "      <th>France</th>\n",
       "      <th>Germany</th>\n",
       "      <th>Poland</th>\n",
       "    </tr>\n",
       "  </thead>\n",
       "  <tbody>\n",
       "    <tr>\n",
       "      <th>2015-Q1</th>\n",
       "      <td>100.1</td>\n",
       "      <td>135.1</td>\n",
       "      <td>203.1</td>\n",
       "    </tr>\n",
       "    <tr>\n",
       "      <th>2015-Q2</th>\n",
       "      <td>104.1</td>\n",
       "      <td>104.0</td>\n",
       "      <td>104.1</td>\n",
       "    </tr>\n",
       "    <tr>\n",
       "      <th>2015-Q3</th>\n",
       "      <td>304.0</td>\n",
       "      <td>304.0</td>\n",
       "      <td>650.4</td>\n",
       "    </tr>\n",
       "    <tr>\n",
       "      <th>2015-Q4</th>\n",
       "      <td>498.0</td>\n",
       "      <td>560.0</td>\n",
       "      <td>111.0</td>\n",
       "    </tr>\n",
       "  </tbody>\n",
       "</table>\n",
       "</div>"
      ],
      "text/plain": [
       "         France  Germany  Poland\n",
       "2015-Q1   100.1    135.1   203.1\n",
       "2015-Q2   104.1    104.0   104.1\n",
       "2015-Q3   304.0    304.0   650.4\n",
       "2015-Q4   498.0    560.0   111.0"
      ]
     },
     "execution_count": 38,
     "metadata": {},
     "output_type": "execute_result"
    }
   ],
   "source": [
    "oil_df = pd.DataFrame.from_dict(oil_data)\n",
    "oil_df"
   ]
  },
  {
   "cell_type": "code",
   "execution_count": 39,
   "metadata": {},
   "outputs": [
    {
     "data": {
      "text/html": [
       "<div>\n",
       "<style scoped>\n",
       "    .dataframe tbody tr th:only-of-type {\n",
       "        vertical-align: middle;\n",
       "    }\n",
       "\n",
       "    .dataframe tbody tr th {\n",
       "        vertical-align: top;\n",
       "    }\n",
       "\n",
       "    .dataframe thead th {\n",
       "        text-align: right;\n",
       "    }\n",
       "</style>\n",
       "<table border=\"1\" class=\"dataframe\">\n",
       "  <thead>\n",
       "    <tr style=\"text-align: right;\">\n",
       "      <th></th>\n",
       "      <th>Poland</th>\n",
       "      <th>Germany</th>\n",
       "      <th>France</th>\n",
       "    </tr>\n",
       "  </thead>\n",
       "  <tbody>\n",
       "    <tr>\n",
       "      <th>2015-Q1</th>\n",
       "      <td>203.1</td>\n",
       "      <td>135.1</td>\n",
       "      <td>100.1</td>\n",
       "    </tr>\n",
       "    <tr>\n",
       "      <th>2015-Q2</th>\n",
       "      <td>104.1</td>\n",
       "      <td>104.0</td>\n",
       "      <td>104.1</td>\n",
       "    </tr>\n",
       "    <tr>\n",
       "      <th>2015-Q3</th>\n",
       "      <td>650.4</td>\n",
       "      <td>304.0</td>\n",
       "      <td>304.0</td>\n",
       "    </tr>\n",
       "    <tr>\n",
       "      <th>2015-Q4</th>\n",
       "      <td>111.0</td>\n",
       "      <td>560.0</td>\n",
       "      <td>498.0</td>\n",
       "    </tr>\n",
       "  </tbody>\n",
       "</table>\n",
       "</div>"
      ],
      "text/plain": [
       "         Poland  Germany  France\n",
       "2015-Q1   203.1    135.1   100.1\n",
       "2015-Q2   104.1    104.0   104.1\n",
       "2015-Q3   650.4    304.0   304.0\n",
       "2015-Q4   111.0    560.0   498.0"
      ]
     },
     "execution_count": 39,
     "metadata": {},
     "output_type": "execute_result"
    }
   ],
   "source": [
    "oil_df[[\"Poland\",\"Germany\",\"France\"]]"
   ]
  },
  {
   "cell_type": "code",
   "execution_count": 40,
   "metadata": {},
   "outputs": [
    {
     "data": {
      "text/html": [
       "<div>\n",
       "<style scoped>\n",
       "    .dataframe tbody tr th:only-of-type {\n",
       "        vertical-align: middle;\n",
       "    }\n",
       "\n",
       "    .dataframe tbody tr th {\n",
       "        vertical-align: top;\n",
       "    }\n",
       "\n",
       "    .dataframe thead th {\n",
       "        text-align: right;\n",
       "    }\n",
       "</style>\n",
       "<table border=\"1\" class=\"dataframe\">\n",
       "  <thead>\n",
       "    <tr style=\"text-align: right;\">\n",
       "      <th></th>\n",
       "      <th>France</th>\n",
       "      <th>Germany</th>\n",
       "      <th>Poland</th>\n",
       "    </tr>\n",
       "  </thead>\n",
       "  <tbody>\n",
       "    <tr>\n",
       "      <th>2015-Q4</th>\n",
       "      <td>498.0</td>\n",
       "      <td>560.0</td>\n",
       "      <td>111.0</td>\n",
       "    </tr>\n",
       "    <tr>\n",
       "      <th>2015-Q3</th>\n",
       "      <td>304.0</td>\n",
       "      <td>304.0</td>\n",
       "      <td>650.4</td>\n",
       "    </tr>\n",
       "    <tr>\n",
       "      <th>2015-Q2</th>\n",
       "      <td>104.1</td>\n",
       "      <td>104.0</td>\n",
       "      <td>104.1</td>\n",
       "    </tr>\n",
       "    <tr>\n",
       "      <th>2015-Q1</th>\n",
       "      <td>100.1</td>\n",
       "      <td>135.1</td>\n",
       "      <td>203.1</td>\n",
       "    </tr>\n",
       "  </tbody>\n",
       "</table>\n",
       "</div>"
      ],
      "text/plain": [
       "         France  Germany  Poland\n",
       "2015-Q4   498.0    560.0   111.0\n",
       "2015-Q3   304.0    304.0   650.4\n",
       "2015-Q2   104.1    104.0   104.1\n",
       "2015-Q1   100.1    135.1   203.1"
      ]
     },
     "execution_count": 40,
     "metadata": {},
     "output_type": "execute_result"
    }
   ],
   "source": [
    "oil_df[::-1]#reverse complete datframe"
   ]
  },
  {
   "cell_type": "code",
   "execution_count": 44,
   "metadata": {},
   "outputs": [
    {
     "data": {
      "text/plain": [
       "2015-Q4    498.0\n",
       "2015-Q3    304.0\n",
       "2015-Q2    104.1\n",
       "2015-Q1    100.1\n",
       "Name: France, dtype: float64"
      ]
     },
     "execution_count": 44,
     "metadata": {},
     "output_type": "execute_result"
    }
   ],
   "source": [
    "oil_df.France[::-1][::-1][::-1][::-1][::-1][::-1][::-1]"
   ]
  },
  {
   "cell_type": "code",
   "execution_count": 50,
   "metadata": {},
   "outputs": [
    {
     "data": {
      "text/html": [
       "<div>\n",
       "<style scoped>\n",
       "    .dataframe tbody tr th:only-of-type {\n",
       "        vertical-align: middle;\n",
       "    }\n",
       "\n",
       "    .dataframe tbody tr th {\n",
       "        vertical-align: top;\n",
       "    }\n",
       "\n",
       "    .dataframe thead th {\n",
       "        text-align: right;\n",
       "    }\n",
       "</style>\n",
       "<table border=\"1\" class=\"dataframe\">\n",
       "  <thead>\n",
       "    <tr style=\"text-align: right;\">\n",
       "      <th></th>\n",
       "      <th>Months</th>\n",
       "      <th>Avg_low_temp</th>\n",
       "      <th>Avg_price</th>\n",
       "      <th>Avg_snowday</th>\n",
       "    </tr>\n",
       "  </thead>\n",
       "  <tbody>\n",
       "    <tr>\n",
       "      <th>january</th>\n",
       "      <td>january</td>\n",
       "      <td>23</td>\n",
       "      <td>12.3</td>\n",
       "      <td>3.0</td>\n",
       "    </tr>\n",
       "    <tr>\n",
       "      <th>February</th>\n",
       "      <td>February</td>\n",
       "      <td>43</td>\n",
       "      <td>34.0</td>\n",
       "      <td>6.0</td>\n",
       "    </tr>\n",
       "    <tr>\n",
       "      <th>March</th>\n",
       "      <td>March</td>\n",
       "      <td>32</td>\n",
       "      <td>34.5</td>\n",
       "      <td>5.0</td>\n",
       "    </tr>\n",
       "    <tr>\n",
       "      <th>April</th>\n",
       "      <td>April</td>\n",
       "      <td>65</td>\n",
       "      <td>76.0</td>\n",
       "      <td>2.0</td>\n",
       "    </tr>\n",
       "    <tr>\n",
       "      <th>May</th>\n",
       "      <td>May</td>\n",
       "      <td>67</td>\n",
       "      <td>45.0</td>\n",
       "      <td>3.3</td>\n",
       "    </tr>\n",
       "    <tr>\n",
       "      <th>Jun</th>\n",
       "      <td>Jun</td>\n",
       "      <td>22</td>\n",
       "      <td>21.0</td>\n",
       "      <td>4.5</td>\n",
       "    </tr>\n",
       "  </tbody>\n",
       "</table>\n",
       "</div>"
      ],
      "text/plain": [
       "            Months  Avg_low_temp  Avg_price  Avg_snowday\n",
       "january    january            23       12.3          3.0\n",
       "February  February            43       34.0          6.0\n",
       "March        March            32       34.5          5.0\n",
       "April        April            65       76.0          2.0\n",
       "May            May            67       45.0          3.3\n",
       "Jun            Jun            22       21.0          4.5"
      ]
     },
     "execution_count": 50,
     "metadata": {},
     "output_type": "execute_result"
    }
   ],
   "source": [
    "#label - oriented indexing\n",
    "snow_data = {\"Months\":[\"january\",\"February\",\"March\",\"April\",\"May\",\"Jun\"],\n",
    "            \"Avg_low_temp\":[23,43,32,65,67,22],\n",
    "            \"Avg_price\":[12.3,34,34.5,76,45,21],\n",
    "            \"Avg_snowday\":[3.0,6.0,5.0,2.0,3.3,4.5]}\n",
    "snow_data_df = pd.DataFrame(snow_data,index=snow_data[\"Months\"])#making months as index\n",
    "snow_data_df"
   ]
  },
  {
   "cell_type": "code",
   "execution_count": 51,
   "metadata": {},
   "outputs": [
    {
     "data": {
      "text/plain": [
       "Months          january\n",
       "Avg_low_temp         23\n",
       "Avg_price          12.3\n",
       "Avg_snowday           3\n",
       "Name: january, dtype: object"
      ]
     },
     "execution_count": 51,
     "metadata": {},
     "output_type": "execute_result"
    }
   ],
   "source": [
    "snow_data_df.loc[\"january\"]"
   ]
  },
  {
   "cell_type": "code",
   "execution_count": 59,
   "metadata": {},
   "outputs": [
    {
     "data": {
      "text/plain": [
       "Months          january\n",
       "Avg_low_temp         23\n",
       "Avg_price          12.3\n",
       "Avg_snowday           3\n",
       "Name: january, dtype: object"
      ]
     },
     "execution_count": 59,
     "metadata": {},
     "output_type": "execute_result"
    }
   ],
   "source": [
    "snow_data_df.loc[\"january\",:]#"
   ]
  },
  {
   "cell_type": "code",
   "execution_count": 60,
   "metadata": {},
   "outputs": [
    {
     "data": {
      "text/plain": [
       "january     23\n",
       "February    43\n",
       "March       32\n",
       "April       65\n",
       "May         67\n",
       "Jun         22\n",
       "Name: Avg_low_temp, dtype: int64"
      ]
     },
     "execution_count": 60,
     "metadata": {},
     "output_type": "execute_result"
    }
   ],
   "source": [
    "snow_data_df.loc[:,\"Avg_low_temp\"]#accessing column using loc"
   ]
  },
  {
   "cell_type": "code",
   "execution_count": 62,
   "metadata": {},
   "outputs": [
    {
     "data": {
      "text/plain": [
       "Months          May\n",
       "Avg_low_temp     67\n",
       "Avg_price        45\n",
       "Avg_snowday     3.3\n",
       "Name: May, dtype: object"
      ]
     },
     "execution_count": 62,
     "metadata": {},
     "output_type": "execute_result"
    }
   ],
   "source": [
    "snow_data_df.loc[\"May\"]"
   ]
  },
  {
   "cell_type": "code",
   "execution_count": 63,
   "metadata": {},
   "outputs": [
    {
     "data": {
      "text/html": [
       "<div>\n",
       "<style scoped>\n",
       "    .dataframe tbody tr th:only-of-type {\n",
       "        vertical-align: middle;\n",
       "    }\n",
       "\n",
       "    .dataframe tbody tr th {\n",
       "        vertical-align: top;\n",
       "    }\n",
       "\n",
       "    .dataframe thead th {\n",
       "        text-align: right;\n",
       "    }\n",
       "</style>\n",
       "<table border=\"1\" class=\"dataframe\">\n",
       "  <thead>\n",
       "    <tr style=\"text-align: right;\">\n",
       "      <th></th>\n",
       "      <th>Avg_low_temp</th>\n",
       "      <th>Avg_snowday</th>\n",
       "    </tr>\n",
       "  </thead>\n",
       "  <tbody>\n",
       "    <tr>\n",
       "      <th>january</th>\n",
       "      <td>23</td>\n",
       "      <td>3.0</td>\n",
       "    </tr>\n",
       "    <tr>\n",
       "      <th>February</th>\n",
       "      <td>43</td>\n",
       "      <td>6.0</td>\n",
       "    </tr>\n",
       "    <tr>\n",
       "      <th>March</th>\n",
       "      <td>32</td>\n",
       "      <td>5.0</td>\n",
       "    </tr>\n",
       "    <tr>\n",
       "      <th>April</th>\n",
       "      <td>65</td>\n",
       "      <td>2.0</td>\n",
       "    </tr>\n",
       "    <tr>\n",
       "      <th>May</th>\n",
       "      <td>67</td>\n",
       "      <td>3.3</td>\n",
       "    </tr>\n",
       "    <tr>\n",
       "      <th>Jun</th>\n",
       "      <td>22</td>\n",
       "      <td>4.5</td>\n",
       "    </tr>\n",
       "  </tbody>\n",
       "</table>\n",
       "</div>"
      ],
      "text/plain": [
       "          Avg_low_temp  Avg_snowday\n",
       "january             23          3.0\n",
       "February            43          6.0\n",
       "March               32          5.0\n",
       "April               65          2.0\n",
       "May                 67          3.3\n",
       "Jun                 22          4.5"
      ]
     },
     "execution_count": 63,
     "metadata": {},
     "output_type": "execute_result"
    }
   ],
   "source": [
    "snow_data_df.loc[:,[\"Avg_low_temp\",\"Avg_snowday\"]]#accessing multiple columns using loc"
   ]
  },
  {
   "cell_type": "code",
   "execution_count": 67,
   "metadata": {},
   "outputs": [
    {
     "data": {
      "text/plain": [
       "67"
      ]
     },
     "execution_count": 67,
     "metadata": {},
     "output_type": "execute_result"
    }
   ],
   "source": [
    "snow_data_df.loc[\"May\"][\"Avg_low_temp\"]# for loc index should come first"
   ]
  },
  {
   "cell_type": "code",
   "execution_count": 90,
   "metadata": {},
   "outputs": [
    {
     "data": {
      "text/html": [
       "<div>\n",
       "<style scoped>\n",
       "    .dataframe tbody tr th:only-of-type {\n",
       "        vertical-align: middle;\n",
       "    }\n",
       "\n",
       "    .dataframe tbody tr th {\n",
       "        vertical-align: top;\n",
       "    }\n",
       "\n",
       "    .dataframe thead th {\n",
       "        text-align: right;\n",
       "    }\n",
       "</style>\n",
       "<table border=\"1\" class=\"dataframe\">\n",
       "  <thead>\n",
       "    <tr style=\"text-align: right;\">\n",
       "      <th></th>\n",
       "      <th>France</th>\n",
       "      <th>Germany</th>\n",
       "      <th>Poland</th>\n",
       "    </tr>\n",
       "  </thead>\n",
       "  <tbody>\n",
       "    <tr>\n",
       "      <th>2015-Q1</th>\n",
       "      <td>99.0</td>\n",
       "      <td>135.1</td>\n",
       "      <td>203.1</td>\n",
       "    </tr>\n",
       "    <tr>\n",
       "      <th>2015-Q2</th>\n",
       "      <td>104.1</td>\n",
       "      <td>104.0</td>\n",
       "      <td>104.1</td>\n",
       "    </tr>\n",
       "    <tr>\n",
       "      <th>2015-Q3</th>\n",
       "      <td>304.0</td>\n",
       "      <td>304.0</td>\n",
       "      <td>650.4</td>\n",
       "    </tr>\n",
       "    <tr>\n",
       "      <th>2015-Q4</th>\n",
       "      <td>498.0</td>\n",
       "      <td>560.0</td>\n",
       "      <td>111.0</td>\n",
       "    </tr>\n",
       "  </tbody>\n",
       "</table>\n",
       "</div>"
      ],
      "text/plain": [
       "         France  Germany  Poland\n",
       "2015-Q1    99.0    135.1   203.1\n",
       "2015-Q2   104.1    104.0   104.1\n",
       "2015-Q3   304.0    304.0   650.4\n",
       "2015-Q4   498.0    560.0   111.0"
      ]
     },
     "execution_count": 90,
     "metadata": {},
     "output_type": "execute_result"
    }
   ],
   "source": [
    "oil_df"
   ]
  },
  {
   "cell_type": "code",
   "execution_count": 93,
   "metadata": {},
   "outputs": [
    {
     "data": {
      "text/html": [
       "<div>\n",
       "<style scoped>\n",
       "    .dataframe tbody tr th:only-of-type {\n",
       "        vertical-align: middle;\n",
       "    }\n",
       "\n",
       "    .dataframe tbody tr th {\n",
       "        vertical-align: top;\n",
       "    }\n",
       "\n",
       "    .dataframe thead th {\n",
       "        text-align: right;\n",
       "    }\n",
       "</style>\n",
       "<table border=\"1\" class=\"dataframe\">\n",
       "  <thead>\n",
       "    <tr style=\"text-align: right;\">\n",
       "      <th></th>\n",
       "      <th>France</th>\n",
       "      <th>Germany</th>\n",
       "      <th>Poland</th>\n",
       "    </tr>\n",
       "  </thead>\n",
       "  <tbody>\n",
       "    <tr>\n",
       "      <th>2015-Q1</th>\n",
       "      <td>NaN</td>\n",
       "      <td>NaN</td>\n",
       "      <td>203.1</td>\n",
       "    </tr>\n",
       "    <tr>\n",
       "      <th>2015-Q2</th>\n",
       "      <td>NaN</td>\n",
       "      <td>NaN</td>\n",
       "      <td>NaN</td>\n",
       "    </tr>\n",
       "    <tr>\n",
       "      <th>2015-Q3</th>\n",
       "      <td>304.0</td>\n",
       "      <td>304.0</td>\n",
       "      <td>650.4</td>\n",
       "    </tr>\n",
       "    <tr>\n",
       "      <th>2015-Q4</th>\n",
       "      <td>498.0</td>\n",
       "      <td>560.0</td>\n",
       "      <td>NaN</td>\n",
       "    </tr>\n",
       "  </tbody>\n",
       "</table>\n",
       "</div>"
      ],
      "text/plain": [
       "         France  Germany  Poland\n",
       "2015-Q1     NaN      NaN   203.1\n",
       "2015-Q2     NaN      NaN     NaN\n",
       "2015-Q3   304.0    304.0   650.4\n",
       "2015-Q4   498.0    560.0     NaN"
      ]
     },
     "execution_count": 93,
     "metadata": {},
     "output_type": "execute_result"
    }
   ],
   "source": [
    "#findout column where values are greater than 150\n",
    "oil_df[oil_df.loc[:]>150]"
   ]
  },
  {
   "cell_type": "code",
   "execution_count": 99,
   "metadata": {},
   "outputs": [
    {
     "data": {
      "text/html": [
       "<div>\n",
       "<style scoped>\n",
       "    .dataframe tbody tr th:only-of-type {\n",
       "        vertical-align: middle;\n",
       "    }\n",
       "\n",
       "    .dataframe tbody tr th {\n",
       "        vertical-align: top;\n",
       "    }\n",
       "\n",
       "    .dataframe thead th {\n",
       "        text-align: right;\n",
       "    }\n",
       "</style>\n",
       "<table border=\"1\" class=\"dataframe\">\n",
       "  <thead>\n",
       "    <tr style=\"text-align: right;\">\n",
       "      <th></th>\n",
       "      <th>France</th>\n",
       "      <th>Germany</th>\n",
       "      <th>Poland</th>\n",
       "    </tr>\n",
       "  </thead>\n",
       "  <tbody>\n",
       "    <tr>\n",
       "      <th>2015-Q1</th>\n",
       "      <td>False</td>\n",
       "      <td>False</td>\n",
       "      <td>True</td>\n",
       "    </tr>\n",
       "  </tbody>\n",
       "</table>\n",
       "</div>"
      ],
      "text/plain": [
       "         France  Germany  Poland\n",
       "2015-Q1   False    False    True"
      ]
     },
     "execution_count": 99,
     "metadata": {},
     "output_type": "execute_result"
    }
   ],
   "source": [
    "oil_df[:1]>150"
   ]
  },
  {
   "cell_type": "code",
   "execution_count": 100,
   "metadata": {},
   "outputs": [
    {
     "data": {
      "text/html": [
       "<div>\n",
       "<style scoped>\n",
       "    .dataframe tbody tr th:only-of-type {\n",
       "        vertical-align: middle;\n",
       "    }\n",
       "\n",
       "    .dataframe tbody tr th {\n",
       "        vertical-align: top;\n",
       "    }\n",
       "\n",
       "    .dataframe thead th {\n",
       "        text-align: right;\n",
       "    }\n",
       "</style>\n",
       "<table border=\"1\" class=\"dataframe\">\n",
       "  <thead>\n",
       "    <tr style=\"text-align: right;\">\n",
       "      <th></th>\n",
       "      <th>Poland</th>\n",
       "    </tr>\n",
       "  </thead>\n",
       "  <tbody>\n",
       "    <tr>\n",
       "      <th>2015-Q1</th>\n",
       "      <td>203.1</td>\n",
       "    </tr>\n",
       "    <tr>\n",
       "      <th>2015-Q2</th>\n",
       "      <td>104.1</td>\n",
       "    </tr>\n",
       "    <tr>\n",
       "      <th>2015-Q3</th>\n",
       "      <td>650.4</td>\n",
       "    </tr>\n",
       "    <tr>\n",
       "      <th>2015-Q4</th>\n",
       "      <td>111.0</td>\n",
       "    </tr>\n",
       "  </tbody>\n",
       "</table>\n",
       "</div>"
      ],
      "text/plain": [
       "         Poland\n",
       "2015-Q1   203.1\n",
       "2015-Q2   104.1\n",
       "2015-Q3   650.4\n",
       "2015-Q4   111.0"
      ]
     },
     "execution_count": 100,
     "metadata": {},
     "output_type": "execute_result"
    }
   ],
   "source": [
    "oil_df.loc[:,oil_df.loc[\"2015-Q1\"]>150]"
   ]
  },
  {
   "cell_type": "markdown",
   "metadata": {},
   "source": [
    "# ------------------"
   ]
  },
  {
   "cell_type": "code",
   "execution_count": 102,
   "metadata": {},
   "outputs": [
    {
     "data": {
      "text/html": [
       "<div>\n",
       "<style scoped>\n",
       "    .dataframe tbody tr th:only-of-type {\n",
       "        vertical-align: middle;\n",
       "    }\n",
       "\n",
       "    .dataframe tbody tr th {\n",
       "        vertical-align: top;\n",
       "    }\n",
       "\n",
       "    .dataframe thead th {\n",
       "        text-align: right;\n",
       "    }\n",
       "</style>\n",
       "<table border=\"1\" class=\"dataframe\">\n",
       "  <thead>\n",
       "    <tr style=\"text-align: right;\">\n",
       "      <th></th>\n",
       "      <th>France</th>\n",
       "      <th>Germany</th>\n",
       "      <th>Poland</th>\n",
       "    </tr>\n",
       "  </thead>\n",
       "  <tbody>\n",
       "    <tr>\n",
       "      <th>2015-Q1</th>\n",
       "      <td>99.0</td>\n",
       "      <td>135.1</td>\n",
       "      <td>203.1</td>\n",
       "    </tr>\n",
       "    <tr>\n",
       "      <th>2015-Q2</th>\n",
       "      <td>104.1</td>\n",
       "      <td>104.0</td>\n",
       "      <td>104.1</td>\n",
       "    </tr>\n",
       "    <tr>\n",
       "      <th>2015-Q3</th>\n",
       "      <td>304.0</td>\n",
       "      <td>304.0</td>\n",
       "      <td>650.4</td>\n",
       "    </tr>\n",
       "    <tr>\n",
       "      <th>2015-Q4</th>\n",
       "      <td>498.0</td>\n",
       "      <td>560.0</td>\n",
       "      <td>111.0</td>\n",
       "    </tr>\n",
       "  </tbody>\n",
       "</table>\n",
       "</div>"
      ],
      "text/plain": [
       "         France  Germany  Poland\n",
       "2015-Q1    99.0    135.1   203.1\n",
       "2015-Q2   104.1    104.0   104.1\n",
       "2015-Q3   304.0    304.0   650.4\n",
       "2015-Q4   498.0    560.0   111.0"
      ]
     },
     "execution_count": 102,
     "metadata": {},
     "output_type": "execute_result"
    }
   ],
   "source": [
    "oil_df"
   ]
  },
  {
   "cell_type": "code",
   "execution_count": 109,
   "metadata": {},
   "outputs": [],
   "source": [
    "new = {\"x\":list(range(1,5)),\"y\":list(range(6,10)),\"z\":list(range(12,16))}\n",
    "new_df = pd.DataFrame(new,index=[3,8,2,4])"
   ]
  },
  {
   "cell_type": "code",
   "execution_count": 110,
   "metadata": {},
   "outputs": [
    {
     "data": {
      "text/html": [
       "<div>\n",
       "<style scoped>\n",
       "    .dataframe tbody tr th:only-of-type {\n",
       "        vertical-align: middle;\n",
       "    }\n",
       "\n",
       "    .dataframe tbody tr th {\n",
       "        vertical-align: top;\n",
       "    }\n",
       "\n",
       "    .dataframe thead th {\n",
       "        text-align: right;\n",
       "    }\n",
       "</style>\n",
       "<table border=\"1\" class=\"dataframe\">\n",
       "  <thead>\n",
       "    <tr style=\"text-align: right;\">\n",
       "      <th></th>\n",
       "      <th>x</th>\n",
       "      <th>y</th>\n",
       "      <th>z</th>\n",
       "    </tr>\n",
       "  </thead>\n",
       "  <tbody>\n",
       "    <tr>\n",
       "      <th>3</th>\n",
       "      <td>1</td>\n",
       "      <td>6</td>\n",
       "      <td>12</td>\n",
       "    </tr>\n",
       "    <tr>\n",
       "      <th>8</th>\n",
       "      <td>2</td>\n",
       "      <td>7</td>\n",
       "      <td>13</td>\n",
       "    </tr>\n",
       "    <tr>\n",
       "      <th>2</th>\n",
       "      <td>3</td>\n",
       "      <td>8</td>\n",
       "      <td>14</td>\n",
       "    </tr>\n",
       "    <tr>\n",
       "      <th>4</th>\n",
       "      <td>4</td>\n",
       "      <td>9</td>\n",
       "      <td>15</td>\n",
       "    </tr>\n",
       "  </tbody>\n",
       "</table>\n",
       "</div>"
      ],
      "text/plain": [
       "   x  y   z\n",
       "3  1  6  12\n",
       "8  2  7  13\n",
       "2  3  8  14\n",
       "4  4  9  15"
      ]
     },
     "execution_count": 110,
     "metadata": {},
     "output_type": "execute_result"
    }
   ],
   "source": [
    "new_df"
   ]
  },
  {
   "cell_type": "code",
   "execution_count": 114,
   "metadata": {},
   "outputs": [
    {
     "data": {
      "text/plain": [
       "x     4\n",
       "y     9\n",
       "z    15\n",
       "Name: 4, dtype: int64"
      ]
     },
     "execution_count": 114,
     "metadata": {},
     "output_type": "execute_result"
    }
   ],
   "source": [
    "#iloc will return only the position\n",
    "new_df.iloc[3]"
   ]
  },
  {
   "cell_type": "code",
   "execution_count": 119,
   "metadata": {},
   "outputs": [
    {
     "data": {
      "text/plain": [
       "x     1\n",
       "y     6\n",
       "z    12\n",
       "Name: 3, dtype: int64"
      ]
     },
     "execution_count": 119,
     "metadata": {},
     "output_type": "execute_result"
    }
   ],
   "source": [
    "new_df.loc[3]#it is purely a level base indexing"
   ]
  },
  {
   "cell_type": "code",
   "execution_count": 128,
   "metadata": {},
   "outputs": [
    {
     "data": {
      "text/plain": [
       "3"
      ]
     },
     "execution_count": 128,
     "metadata": {},
     "output_type": "execute_result"
    }
   ],
   "source": [
    "new_df.iloc[2][0]"
   ]
  },
  {
   "cell_type": "code",
   "execution_count": 127,
   "metadata": {},
   "outputs": [
    {
     "data": {
      "text/plain": [
       "3"
      ]
     },
     "execution_count": 127,
     "metadata": {},
     "output_type": "execute_result"
    }
   ],
   "source": [
    "new_df.loc[2][0]"
   ]
  },
  {
   "cell_type": "markdown",
   "metadata": {},
   "source": [
    "# ----------------------------------------------------"
   ]
  },
  {
   "cell_type": "code",
   "execution_count": 130,
   "metadata": {},
   "outputs": [
    {
     "data": {
      "text/html": [
       "<div>\n",
       "<style scoped>\n",
       "    .dataframe tbody tr th:only-of-type {\n",
       "        vertical-align: middle;\n",
       "    }\n",
       "\n",
       "    .dataframe tbody tr th {\n",
       "        vertical-align: top;\n",
       "    }\n",
       "\n",
       "    .dataframe thead th {\n",
       "        text-align: right;\n",
       "    }\n",
       "</style>\n",
       "<table border=\"1\" class=\"dataframe\">\n",
       "  <thead>\n",
       "    <tr style=\"text-align: right;\">\n",
       "      <th></th>\n",
       "      <th>TradingDate</th>\n",
       "      <th>PriceType</th>\n",
       "      <th>Nasdaq</th>\n",
       "      <th>S&amp;P 500</th>\n",
       "      <th>Russell 2000</th>\n",
       "    </tr>\n",
       "  </thead>\n",
       "  <tbody>\n",
       "    <tr>\n",
       "      <th>0</th>\n",
       "      <td>2014/02/21</td>\n",
       "      <td>open</td>\n",
       "      <td>4282.17</td>\n",
       "      <td>1841.07</td>\n",
       "      <td>1166.25</td>\n",
       "    </tr>\n",
       "    <tr>\n",
       "      <th>1</th>\n",
       "      <td>2014/02/21</td>\n",
       "      <td>close</td>\n",
       "      <td>4263.41</td>\n",
       "      <td>1836.25</td>\n",
       "      <td>1164.63</td>\n",
       "    </tr>\n",
       "    <tr>\n",
       "      <th>2</th>\n",
       "      <td>2014/02/21</td>\n",
       "      <td>high</td>\n",
       "      <td>4284.85</td>\n",
       "      <td>1846.13</td>\n",
       "      <td>1168.43</td>\n",
       "    </tr>\n",
       "    <tr>\n",
       "      <th>3</th>\n",
       "      <td>2014/02/24</td>\n",
       "      <td>open</td>\n",
       "      <td>4273.32</td>\n",
       "      <td>1836.78</td>\n",
       "      <td>1166.74</td>\n",
       "    </tr>\n",
       "    <tr>\n",
       "      <th>4</th>\n",
       "      <td>2014/02/24</td>\n",
       "      <td>close</td>\n",
       "      <td>4292.97</td>\n",
       "      <td>1847.61</td>\n",
       "      <td>1174.55</td>\n",
       "    </tr>\n",
       "    <tr>\n",
       "      <th>5</th>\n",
       "      <td>2014/02/24</td>\n",
       "      <td>high</td>\n",
       "      <td>4311.13</td>\n",
       "      <td>1858.71</td>\n",
       "      <td>1180.29</td>\n",
       "    </tr>\n",
       "    <tr>\n",
       "      <th>6</th>\n",
       "      <td>2014/02/25</td>\n",
       "      <td>open</td>\n",
       "      <td>4298.48</td>\n",
       "      <td>1847.66</td>\n",
       "      <td>1176.00</td>\n",
       "    </tr>\n",
       "    <tr>\n",
       "      <th>7</th>\n",
       "      <td>2014/02/25</td>\n",
       "      <td>close</td>\n",
       "      <td>4287.59</td>\n",
       "      <td>1845.12</td>\n",
       "      <td>1173.95</td>\n",
       "    </tr>\n",
       "    <tr>\n",
       "      <th>8</th>\n",
       "      <td>2014/02/25</td>\n",
       "      <td>high</td>\n",
       "      <td>4307.51</td>\n",
       "      <td>1852.91</td>\n",
       "      <td>1179.43</td>\n",
       "    </tr>\n",
       "    <tr>\n",
       "      <th>9</th>\n",
       "      <td>2014/02/26</td>\n",
       "      <td>open</td>\n",
       "      <td>4300.45</td>\n",
       "      <td>1845.79</td>\n",
       "      <td>1176.11</td>\n",
       "    </tr>\n",
       "    <tr>\n",
       "      <th>10</th>\n",
       "      <td>2014/02/26</td>\n",
       "      <td>close</td>\n",
       "      <td>4292.06</td>\n",
       "      <td>1845.16</td>\n",
       "      <td>1181.72</td>\n",
       "    </tr>\n",
       "    <tr>\n",
       "      <th>11</th>\n",
       "      <td>2014/02/26</td>\n",
       "      <td>high</td>\n",
       "      <td>4316.82</td>\n",
       "      <td>1852.65</td>\n",
       "      <td>1188.06</td>\n",
       "    </tr>\n",
       "    <tr>\n",
       "      <th>12</th>\n",
       "      <td>2014/02/27</td>\n",
       "      <td>open</td>\n",
       "      <td>4291.47</td>\n",
       "      <td>1844.90</td>\n",
       "      <td>1179.28</td>\n",
       "    </tr>\n",
       "    <tr>\n",
       "      <th>13</th>\n",
       "      <td>2014/02/27</td>\n",
       "      <td>close</td>\n",
       "      <td>4318.93</td>\n",
       "      <td>1854.29</td>\n",
       "      <td>1187.94</td>\n",
       "    </tr>\n",
       "    <tr>\n",
       "      <th>14</th>\n",
       "      <td>2014/02/27</td>\n",
       "      <td>high</td>\n",
       "      <td>4322.46</td>\n",
       "      <td>1854.53</td>\n",
       "      <td>1187.94</td>\n",
       "    </tr>\n",
       "    <tr>\n",
       "      <th>15</th>\n",
       "      <td>2014/02/28</td>\n",
       "      <td>open</td>\n",
       "      <td>4323.52</td>\n",
       "      <td>1855.12</td>\n",
       "      <td>1189.19</td>\n",
       "    </tr>\n",
       "    <tr>\n",
       "      <th>16</th>\n",
       "      <td>2014/02/28</td>\n",
       "      <td>close</td>\n",
       "      <td>4308.12</td>\n",
       "      <td>1859.45</td>\n",
       "      <td>1183.03</td>\n",
       "    </tr>\n",
       "    <tr>\n",
       "      <th>17</th>\n",
       "      <td>2014/02/28</td>\n",
       "      <td>high</td>\n",
       "      <td>4342.59</td>\n",
       "      <td>1867.92</td>\n",
       "      <td>1193.50</td>\n",
       "    </tr>\n",
       "  </tbody>\n",
       "</table>\n",
       "</div>"
      ],
      "text/plain": [
       "   TradingDate PriceType   Nasdaq  S&P 500  Russell 2000\n",
       "0   2014/02/21      open  4282.17  1841.07       1166.25\n",
       "1   2014/02/21     close  4263.41  1836.25       1164.63\n",
       "2   2014/02/21      high  4284.85  1846.13       1168.43\n",
       "3   2014/02/24      open  4273.32  1836.78       1166.74\n",
       "4   2014/02/24     close  4292.97  1847.61       1174.55\n",
       "5   2014/02/24      high  4311.13  1858.71       1180.29\n",
       "6   2014/02/25      open  4298.48  1847.66       1176.00\n",
       "7   2014/02/25     close  4287.59  1845.12       1173.95\n",
       "8   2014/02/25      high  4307.51  1852.91       1179.43\n",
       "9   2014/02/26      open  4300.45  1845.79       1176.11\n",
       "10  2014/02/26     close  4292.06  1845.16       1181.72\n",
       "11  2014/02/26      high  4316.82  1852.65       1188.06\n",
       "12  2014/02/27      open  4291.47  1844.90       1179.28\n",
       "13  2014/02/27     close  4318.93  1854.29       1187.94\n",
       "14  2014/02/27      high  4322.46  1854.53       1187.94\n",
       "15  2014/02/28      open  4323.52  1855.12       1189.19\n",
       "16  2014/02/28     close  4308.12  1859.45       1183.03\n",
       "17  2014/02/28      high  4342.59  1867.92       1193.50"
      ]
     },
     "execution_count": 130,
     "metadata": {},
     "output_type": "execute_result"
    }
   ],
   "source": [
    "stock_data = pd.read_csv(\"stock_index_prices.csv\")\n",
    "stock_data"
   ]
  },
  {
   "cell_type": "code",
   "execution_count": 131,
   "metadata": {},
   "outputs": [
    {
     "data": {
      "text/html": [
       "<div>\n",
       "<style scoped>\n",
       "    .dataframe tbody tr th:only-of-type {\n",
       "        vertical-align: middle;\n",
       "    }\n",
       "\n",
       "    .dataframe tbody tr th {\n",
       "        vertical-align: top;\n",
       "    }\n",
       "\n",
       "    .dataframe thead th {\n",
       "        text-align: right;\n",
       "    }\n",
       "</style>\n",
       "<table border=\"1\" class=\"dataframe\">\n",
       "  <thead>\n",
       "    <tr style=\"text-align: right;\">\n",
       "      <th></th>\n",
       "      <th>TradingDate</th>\n",
       "      <th>PriceType</th>\n",
       "      <th>Nasdaq</th>\n",
       "      <th>S&amp;P 500</th>\n",
       "      <th>Russell 2000</th>\n",
       "    </tr>\n",
       "  </thead>\n",
       "  <tbody>\n",
       "    <tr>\n",
       "      <th>0</th>\n",
       "      <td>2014/02/21</td>\n",
       "      <td>open</td>\n",
       "      <td>4282.17</td>\n",
       "      <td>1841.07</td>\n",
       "      <td>1166.25</td>\n",
       "    </tr>\n",
       "    <tr>\n",
       "      <th>1</th>\n",
       "      <td>2014/02/21</td>\n",
       "      <td>close</td>\n",
       "      <td>4263.41</td>\n",
       "      <td>1836.25</td>\n",
       "      <td>1164.63</td>\n",
       "    </tr>\n",
       "    <tr>\n",
       "      <th>2</th>\n",
       "      <td>2014/02/21</td>\n",
       "      <td>high</td>\n",
       "      <td>4284.85</td>\n",
       "      <td>1846.13</td>\n",
       "      <td>1168.43</td>\n",
       "    </tr>\n",
       "    <tr>\n",
       "      <th>3</th>\n",
       "      <td>2014/02/24</td>\n",
       "      <td>open</td>\n",
       "      <td>4273.32</td>\n",
       "      <td>1836.78</td>\n",
       "      <td>1166.74</td>\n",
       "    </tr>\n",
       "    <tr>\n",
       "      <th>4</th>\n",
       "      <td>2014/02/24</td>\n",
       "      <td>close</td>\n",
       "      <td>4292.97</td>\n",
       "      <td>1847.61</td>\n",
       "      <td>1174.55</td>\n",
       "    </tr>\n",
       "  </tbody>\n",
       "</table>\n",
       "</div>"
      ],
      "text/plain": [
       "  TradingDate PriceType   Nasdaq  S&P 500  Russell 2000\n",
       "0  2014/02/21      open  4282.17  1841.07       1166.25\n",
       "1  2014/02/21     close  4263.41  1836.25       1164.63\n",
       "2  2014/02/21      high  4284.85  1846.13       1168.43\n",
       "3  2014/02/24      open  4273.32  1836.78       1166.74\n",
       "4  2014/02/24     close  4292.97  1847.61       1174.55"
      ]
     },
     "execution_count": 131,
     "metadata": {},
     "output_type": "execute_result"
    }
   ],
   "source": [
    "stock_data.head()4300"
   ]
  },
  {
   "cell_type": "code",
   "execution_count": 147,
   "metadata": {},
   "outputs": [
    {
     "data": {
      "text/html": [
       "<div>\n",
       "<style scoped>\n",
       "    .dataframe tbody tr th:only-of-type {\n",
       "        vertical-align: middle;\n",
       "    }\n",
       "\n",
       "    .dataframe tbody tr th {\n",
       "        vertical-align: top;\n",
       "    }\n",
       "\n",
       "    .dataframe thead th {\n",
       "        text-align: right;\n",
       "    }\n",
       "</style>\n",
       "<table border=\"1\" class=\"dataframe\">\n",
       "  <thead>\n",
       "    <tr style=\"text-align: right;\">\n",
       "      <th></th>\n",
       "      <th>TradingDate</th>\n",
       "      <th>PriceType</th>\n",
       "      <th>Nasdaq</th>\n",
       "      <th>S&amp;P 500</th>\n",
       "      <th>Russell 2000</th>\n",
       "    </tr>\n",
       "  </thead>\n",
       "  <tbody>\n",
       "    <tr>\n",
       "      <th>13</th>\n",
       "      <td>2014/02/27</td>\n",
       "      <td>close</td>\n",
       "      <td>4318.93</td>\n",
       "      <td>1854.29</td>\n",
       "      <td>1187.94</td>\n",
       "    </tr>\n",
       "    <tr>\n",
       "      <th>16</th>\n",
       "      <td>2014/02/28</td>\n",
       "      <td>close</td>\n",
       "      <td>4308.12</td>\n",
       "      <td>1859.45</td>\n",
       "      <td>1183.03</td>\n",
       "    </tr>\n",
       "  </tbody>\n",
       "</table>\n",
       "</div>"
      ],
      "text/plain": [
       "   TradingDate PriceType   Nasdaq  S&P 500  Russell 2000\n",
       "13  2014/02/27     close  4318.93  1854.29       1187.94\n",
       "16  2014/02/28     close  4308.12  1859.45       1183.03"
      ]
     },
     "execution_count": 147,
     "metadata": {},
     "output_type": "execute_result"
    }
   ],
   "source": [
    "stock_data[(stock_data[\"PriceType\"]==\"close\") & (stock_data[\"Nasdaq\"]>4300)]"
   ]
  },
  {
   "cell_type": "code",
   "execution_count": null,
   "metadata": {},
   "outputs": [],
   "source": [
    "#all rows where price tag high nasdaq <4300\n",
    "#isin and any and all\n",
    "#where,mask\n",
    "#"
   ]
  },
  {
   "cell_type": "code",
   "execution_count": 148,
   "metadata": {},
   "outputs": [
    {
     "data": {
      "text/html": [
       "<div>\n",
       "<style scoped>\n",
       "    .dataframe tbody tr th:only-of-type {\n",
       "        vertical-align: middle;\n",
       "    }\n",
       "\n",
       "    .dataframe tbody tr th {\n",
       "        vertical-align: top;\n",
       "    }\n",
       "\n",
       "    .dataframe thead th {\n",
       "        text-align: right;\n",
       "    }\n",
       "</style>\n",
       "<table border=\"1\" class=\"dataframe\">\n",
       "  <thead>\n",
       "    <tr style=\"text-align: right;\">\n",
       "      <th></th>\n",
       "      <th>TradingDate</th>\n",
       "      <th>PriceType</th>\n",
       "      <th>Nasdaq</th>\n",
       "      <th>S&amp;P 500</th>\n",
       "      <th>Russell 2000</th>\n",
       "    </tr>\n",
       "  </thead>\n",
       "  <tbody>\n",
       "    <tr>\n",
       "      <th>2</th>\n",
       "      <td>2014/02/21</td>\n",
       "      <td>high</td>\n",
       "      <td>4284.85</td>\n",
       "      <td>1846.13</td>\n",
       "      <td>1168.43</td>\n",
       "    </tr>\n",
       "  </tbody>\n",
       "</table>\n",
       "</div>"
      ],
      "text/plain": [
       "  TradingDate PriceType   Nasdaq  S&P 500  Russell 2000\n",
       "2  2014/02/21      high  4284.85  1846.13       1168.43"
      ]
     },
     "execution_count": 148,
     "metadata": {},
     "output_type": "execute_result"
    }
   ],
   "source": [
    "stock_data[(stock_data[\"PriceType\"]==\"high\") & (stock_data[\"Nasdaq\"]<4300)]"
   ]
  },
  {
   "cell_type": "code",
   "execution_count": null,
   "metadata": {},
   "outputs": [],
   "source": []
  },
  {
   "cell_type": "markdown",
   "metadata": {},
   "source": [
    "# --------------------------"
   ]
  },
  {
   "cell_type": "code",
   "execution_count": null,
   "metadata": {},
   "outputs": [],
   "source": []
  },
  {
   "cell_type": "code",
   "execution_count": null,
   "metadata": {},
   "outputs": [],
   "source": []
  },
  {
   "cell_type": "code",
   "execution_count": null,
   "metadata": {},
   "outputs": [],
   "source": []
  },
  {
   "cell_type": "code",
   "execution_count": null,
   "metadata": {},
   "outputs": [],
   "source": []
  },
  {
   "cell_type": "code",
   "execution_count": null,
   "metadata": {},
   "outputs": [],
   "source": []
  },
  {
   "cell_type": "code",
   "execution_count": null,
   "metadata": {},
   "outputs": [],
   "source": []
  },
  {
   "cell_type": "code",
   "execution_count": null,
   "metadata": {},
   "outputs": [],
   "source": []
  }
 ],
 "metadata": {
  "kernelspec": {
   "display_name": "Python 3",
   "language": "python",
   "name": "python3"
  },
  "language_info": {
   "codemirror_mode": {
    "name": "ipython",
    "version": 3
   },
   "file_extension": ".py",
   "mimetype": "text/x-python",
   "name": "python",
   "nbconvert_exporter": "python",
   "pygments_lexer": "ipython3",
   "version": "3.7.1"
  }
 },
 "nbformat": 4,
 "nbformat_minor": 2
}
