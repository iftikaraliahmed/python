{
 "cells": [
  {
   "cell_type": "code",
   "execution_count": 20,
   "metadata": {},
   "outputs": [],
   "source": [
    "#importing library for regular expression\n",
    "\n",
    "import re"
   ]
  },
  {
   "cell_type": "markdown",
   "metadata": {},
   "source": [
    "# Q1. Create a dictionary IP_Count where each key-value pair is IP-Address and its frequency in the entire file.\n",
    "For example, {“10.128.2.1”: 10, “10.131.2.1”: 12 } indicates the IP 10.128.2.1 has appeared 10 times,  10.131.2.1\n",
    "appeared 12 times in the file and so on."
   ]
  },
  {
   "cell_type": "code",
   "execution_count": 17,
   "metadata": {},
   "outputs": [
    {
     "name": "stdout",
     "output_type": "stream",
     "text": [
      "File opened successfully\n",
      "{'10.128.2.1': 4257, '10.131.2.1': 1626, '10.130.2.1': 4056, '10.129.2.1': 1652, '10.131.0.1': 4198}\n"
     ]
    }
   ],
   "source": [
    "try:                                           #opening a file using try & except block condition\n",
    "    fhand=open('weblog.txt','r')\n",
    "    print('File opened successfully')\n",
    "except:\n",
    "    print('File cannot be opened')\n",
    "    exit()\n",
    "    \n",
    "list1=[]                    #create an empty list\n",
    "for line in fhand:          #getting each line from the file\n",
    "    line=line.rstrip()\n",
    "    ip=re.findall(\"\\d+.\\d{3}.\\d{1}.\\d\",line)                    #finding out the ip address\n",
    "    list1.extend(ip)\n",
    "\n",
    "#now we need to create an empty dictionary\n",
    "IP_Count={}\n",
    "for ip in list1:\n",
    "    IP_Count[ip]=list1.count(ip)\n",
    "print(IP_Count)\n",
    "fhand.close()"
   ]
  },
  {
   "cell_type": "code",
   "execution_count": 18,
   "metadata": {},
   "outputs": [
    {
     "data": {
      "text/plain": [
       "{'10.128.2.1': 4257,\n",
       " '10.131.2.1': 1626,\n",
       " '10.130.2.1': 4056,\n",
       " '10.129.2.1': 1652,\n",
       " '10.131.0.1': 4198}"
      ]
     },
     "execution_count": 18,
     "metadata": {},
     "output_type": "execute_result"
    }
   ],
   "source": [
    "IP_Count"
   ]
  },
  {
   "cell_type": "markdown",
   "metadata": {},
   "source": [
    "# Q2. Create a dictionary Daily_Stats where each key-value pair is Date (string containing only the date, without time) and number of actions carried out on that day. \n",
    "\n",
    "For example, {“ 29/Nov/2017”: 15, “20/Dec/2017”: 13} indicates there are 15 actions happened on 29th November 2017, 13 actions on 20th December etc."
   ]
  },
  {
   "cell_type": "code",
   "execution_count": 19,
   "metadata": {},
   "outputs": [
    {
     "name": "stdout",
     "output_type": "stream",
     "text": [
      "{'29/Nov/2017': 580, '30/Nov/2017': 2991, '01/Dec/2017': 468, '02/Dec/2017': 168, '03/Dec/2017': 105, '07/Nov/2017': 2, '08/Nov/2017': 106, '09/Nov/2017': 236, '10/Nov/2017': 64, '11/Nov/2017': 286, '12/Nov/2017': 338, '13/Nov/2017': 230, '14/Nov/2017': 150, '15/Nov/2017': 78, '16/Nov/2017': 384, '17/Nov/2017': 481, '18/Nov/2017': 96, '19/Nov/2017': 164, '20/Nov/2017': 58, '21/Nov/2017': 47, '22/Nov/2017': 60, '23/Nov/2017': 380, '24/Nov/2017': 94, '25/Nov/2017': 250, '26/Nov/2017': 179, '12/Dec/2017': 86, '13/Dec/2017': 133, '14/Dec/2017': 165, '15/Dec/2017': 100, '16/Dec/2017': 155, '17/Dec/2017': 92, '18/Dec/2017': 178, '19/Dec/2017': 55, '20/Dec/2017': 98, '21/Dec/2017': 72, '22/Dec/2017': 11, '23/Dec/2017': 43, '16/Jan/2018': 76, '17/Jan/2018': 29, '18/Jan/2018': 63, '29/Jan/2018': 5092, '15/Feb/2018': 20, '16/Feb/2018': 33, '17/Feb/2018': 65, '18/Feb/2018': 34, '19/Feb/2018': 32, '20/Feb/2018': 62, '21/Feb/2018': 110, '22/Feb/2018': 231, '23/Feb/2018': 127, '24/Feb/2018': 15, '25/Feb/2018': 139, '26/Feb/2018': 98, '27/Feb/2018': 83, '28/Feb/2018': 123, '01/Mar/2018': 31, '02/Mar/2018': 143}\n"
     ]
    }
   ],
   "source": [
    "try:\n",
    "    fhand = open(\"weblog.txt\",\"r\")\n",
    "except:\n",
    "    print(\"File can not be opened\")\n",
    "    exit()\n",
    "    \n",
    "list2=[]\n",
    "for date in fhand:\n",
    "    date=date.rstrip()\n",
    "    dt=re.findall('([0-9]{2}/[A-Za-z]{3}/[0-9]{4})',date)\n",
    "    list2.extend(dt)\n",
    "                  \n",
    "daily_stats={}\n",
    "for dt in list2:\n",
    "    daily_stats[dt]=list2.count(dt)\n",
    "print(daily_stats)\n",
    "fhand.close()"
   ]
  },
  {
   "cell_type": "markdown",
   "metadata": {},
   "source": [
    "# Q4. Display the total count of HTTP Get Requests and HTTP Post Requests"
   ]
  },
  {
   "cell_type": "code",
   "execution_count": 12,
   "metadata": {},
   "outputs": [
    {
     "name": "stdout",
     "output_type": "stream",
     "text": [
      "{'GET_COUNT': 15098, 'POST_COUNT': 682}\n"
     ]
    }
   ],
   "source": [
    "try:\n",
    "    fhand = open(\"weblog.txt\",\"r\")\n",
    "except:\n",
    "    print(\"File can not be opened\")\n",
    "    exit()\n",
    "    \n",
    "count=0\n",
    "list_2=[]\n",
    "list_3=[]\n",
    "for line in fhand:\n",
    "    line = line.rstrip()                    \n",
    "    status_get = re.findall(\"GET\",line)          #finding out the line containing get ip address\n",
    "    status_post = re.findall(\"POST\",line)        #finding out the line containing post ip address\n",
    "    list2.extend(status_get)\n",
    "    list3.extend(status_post)\n",
    "    \n",
    "count_dict = {\"GET_COUNT\":len(list_2),\"POST_COUNT\":len(list_3)}\n",
    "print(count_dict)"
   ]
  },
  {
   "cell_type": "markdown",
   "metadata": {},
   "source": [
    "# Q3. Display the URL which have been accessed (either for submit or upload) for most number of times"
   ]
  },
  {
   "cell_type": "code",
   "execution_count": 13,
   "metadata": {},
   "outputs": [
    {
     "name": "stdout",
     "output_type": "stream",
     "text": [
      "/login.php 3298\n"
     ]
    }
   ],
   "source": [
    "try:\n",
    "    fhand = open(\"weblog.txt\",\"r\")\n",
    "except:\n",
    "    print(\"File can not be opened\")\n",
    "    exit()\n",
    "    \n",
    "list_url = []\n",
    "for line in fhand:                  \n",
    "    line = line.rstrip()\n",
    "    url = line.split()[3]\n",
    "    list_url.append(url)\n",
    "url_dict={}  \n",
    "for url in list_url:\n",
    "    url_dict[url] = list_url.count(url)\n",
    "    \n",
    "max_count = max(url_dict, key=url_dict.get)\n",
    "print(max_count, url_dict[max_count])"
   ]
  },
  {
   "cell_type": "markdown",
   "metadata": {},
   "source": [
    "# Q5. Create a dictionary Status_Code where key is the status code, and value is a tuple consisting of a string stating meaning of the code and a number indicating the frequency of that code in the file\n",
    "For example, {200:(“Success”, 53), 404: (“File Not Found”,4)} indicates 200 is the code to indicate ‘Success’, and there are 53 such transactions."
   ]
  },
  {
   "cell_type": "code",
   "execution_count": 16,
   "metadata": {},
   "outputs": [
    {
     "data": {
      "text/plain": [
       "{'200': ('Success', 11330),\n",
       " '302': ('Request Temporarily Removed', 3498),\n",
       " '304': ('File Not Modified', 658),\n",
       " '206': ('Partial content processed', 52),\n",
       " '404': ('File Not Found', 251)}"
      ]
     },
     "execution_count": 16,
     "metadata": {},
     "output_type": "execute_result"
    }
   ],
   "source": [
    "try:\n",
    "    fhand = open(\"weblog.txt\",\"r\")\n",
    "except:\n",
    "    print(\"File can not be opened\")\n",
    "    exit()\n",
    "    \n",
    "list5=[]\n",
    "for line in fhand:\n",
    "    line=line.rstrip()\n",
    "    status_2 = re.findall(\"\\d+$\",line)                        #finding out the ip address\n",
    "    list5.extend(status_2)\n",
    "    \n",
    "Status_Code={}\n",
    "for code in list5:\n",
    "    if code=='200':\n",
    "        Status_Code[code]=(\"Success\",list5.count(code))\n",
    "    elif code=='302':\n",
    "        Status_Code[code]=(\"Request Temporarily Removed\",list5.count(code))\n",
    "    elif code=='404':\n",
    "        Status_Code[code]=(\"File Not Found\",list5.count(code))\n",
    "    elif code=='304':\n",
    "        Status_Code[code]=(\"File Not Modified\",list5.count(code))\n",
    "    else:\n",
    "        Status_Code[code]=(\"Partial content processed\",list5.count(code))\n",
    "\n",
    "Status_Code"
   ]
  },
  {
   "cell_type": "markdown",
   "metadata": {},
   "source": [
    "Unsloved"
   ]
  },
  {
   "cell_type": "markdown",
   "metadata": {},
   "source": [
    "# 6. Create a histogram (list of tuples) indicating number of actions carried out in an hour of a day. For example [(8, 12), (15, 3)] indicates, there are 12 transactions between 8am to 8:59am, there are 3 transactions between 3pm to 3:59pm (because 15 means 3pm)."
   ]
  },
  {
   "cell_type": "code",
   "execution_count": 21,
   "metadata": {},
   "outputs": [
    {
     "name": "stdout",
     "output_type": "stream",
     "text": [
      "[(0, 118), (1, 53), (2, 48), (3, 164), (4, 246), (5, 283), (6, 575), (7, 313), (8, 284), (9, 187), (10, 138), (11, 255), (12, 732), (13, 766), (14, 581), (15, 1461), (16, 1169), (17, 754), (18, 734), (19, 847), (20, 5458), (21, 240), (22, 226), (23, 157)]\n"
     ]
    }
   ],
   "source": [
    "try:\n",
    "    fhand = open(\"weblog.txt\",\"r\")\n",
    "except:\n",
    "    print(\"File can not be opened\")\n",
    "    exit()\n",
    "    \n",
    "list6 = [] #create a empty list\n",
    "for line in fhand:#getting each line from the file\n",
    "    line = line.rstrip()\n",
    "    stat3 = re.findall(\":(\\d{2}):\\d{2}:\\d{2}\",line)#finding out ip address\n",
    "    list6.extend(stat3) \n",
    "\n",
    "d={}\n",
    "for i in list6:\n",
    "    d[i]=(int(i), list6.count(i))\n",
    "list7=list(d.values())\n",
    "list7.sort()\n",
    "print(list7)"
   ]
  },
  {
   "cell_type": "code",
   "execution_count": 22,
   "metadata": {},
   "outputs": [],
   "source": [
    "import pandas as pd\n",
    "import matplotlib.pyplot as plt"
   ]
  },
  {
   "cell_type": "code",
   "execution_count": 24,
   "metadata": {},
   "outputs": [
    {
     "data": {
      "image/png": "[encoded data removed]",
      "text/plain": [
       "<Figure size 432x288 with 2 Axes>"
      ]
     },
     "metadata": {
      "needs_background": "light"
     },
     "output_type": "display_data"
    }
   ],
   "source": [
    "x= [x[0] for x in list7]\n",
    "y= [y[1] for y in list7]\n",
    "x1=pd.DataFrame(x)\n",
    "y1=pd.DataFrame(y)\n",
    "final=pd.concat([x1,y1],axis=1)\n",
    "hist = final.hist()\n",
    "plt.rcParams['figure.figsize']=[8,6]\n",
    "plt.show()"
   ]
  },
  {
   "cell_type": "code",
   "execution_count": null,
   "metadata": {},
   "outputs": [],
   "source": []
  }
 ],
 "metadata": {
  "kernelspec": {
   "display_name": "Python 3",
   "language": "python",
   "name": "python3"
  },
  "language_info": {
   "codemirror_mode": {
    "name": "ipython",
    "version": 3
   },
   "file_extension": ".py",
   "mimetype": "text/x-python",
   "name": "python",
   "nbconvert_exporter": "python",
   "pygments_lexer": "ipython3",
   "version": "3.7.1"
  }
 },
 "nbformat": 4,
 "nbformat_minor": 2
}
