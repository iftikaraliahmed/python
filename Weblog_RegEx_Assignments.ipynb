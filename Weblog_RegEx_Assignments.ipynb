{
 "cells": [
  {
   "cell_type": "code",
   "execution_count": 1,
   "metadata": {},
   "outputs": [],
   "source": [
    "#importing library for regular expression\n",
    "import re\n",
    "#16007"
   ]
  },
  {
   "cell_type": "markdown",
   "metadata": {},
   "source": [
    "# 1. Create a dictionary IP_Count where each key-value pair is IP-Address and its frequency in the entire file.\n",
    "For example, {“10.128.2.1”: 10, “10.131.2.1”: 12 } indicates the IP 10.128.2.1 has appeared 10 times, 10.131.2.1 appeared 12 times in the file and so on."
   ]
  },
  {
   "cell_type": "code",
   "execution_count": 3,
   "metadata": {},
   "outputs": [
    {
     "name": "stdout",
     "output_type": "stream",
     "text": [
      "{'10.128.2.1': 4257, '10.131.2.1': 1626, '10.130.2.1': 4056, '10.129.2.1': 1652, '10.131.0.1': 4198}\n"
     ]
    }
   ],
   "source": [
    "#opening a file using try and except block\n",
    "try:\n",
    "    fhand = open(\"weblog.txt\",\"r\")\n",
    "except:\n",
    "    print(\"File can not be opened\")\n",
    "    exit()\n",
    "    \n",
    "    \n",
    "list1 = [] #create a empty list\n",
    "for line in fhand:#getting each line from the file\n",
    "    line = line.rstrip()\n",
    "    ip_address = re.findall(\"\\d+.\\d{3}.\\d.\\d\",line)          #finding out ip address\n",
    "    list1.extend(ip_address)\n",
    "    \n",
    "#create a empty dictionary    \n",
    "dict1={}\n",
    "for ip in list1:\n",
    "    dict1[ip]=list1.count(ip)\n",
    "print(dict1)\n",
    "fhand.close()"
   ]
  },
  {
   "cell_type": "code",
   "execution_count": 121,
   "metadata": {},
   "outputs": [
    {
     "data": {
      "text/plain": [
       "{'10.128.2.1': 4257,\n",
       " '10.131.2.1': 1626,\n",
       " '10.130.2.1': 4056,\n",
       " '10.129.2.1': 1652,\n",
       " '10.131.0.1': 4198}"
      ]
     },
     "execution_count": 121,
     "metadata": {},
     "output_type": "execute_result"
    }
   ],
   "source": [
    "dict1"
   ]
  },
  {
   "cell_type": "markdown",
   "metadata": {},
   "source": [
    "# 2. Create a dictionary Daily_Stats where each key-value pair is Date (string containing only the date, without time) and number of actions carried out on that day.\n",
    "For example, {“ 29/Nov/2017”: 15, “20/Dec/2017”: 13} indicates there"
   ]
  },
  {
   "cell_type": "code",
   "execution_count": 6,
   "metadata": {},
   "outputs": [],
   "source": [
    "#opening a file using try and except block\n",
    "try:\n",
    "    fhand = open(\"weblog.txt\",\"r\")\n",
    "except:\n",
    "    print(\"File can not be opened\")\n",
    "    exit()\n",
    "    \n",
    "    \n",
    "list2 = [] #create a empty list\n",
    "for line in fhand:#getting each line from the file\n",
    "    line = line.rstrip()\n",
    "    date = re.findall(\"\\d{2}/[a-zA-Z]{3}/\\d{4}\",line)#finding out ip address\n",
    "    list2.extend(date)\n",
    "    \n",
    "#create a empty dictionary    \n",
    "dict2={}\n",
    "for date in list2:\n",
    "    dict2[date]=list2.count(date)\n",
    "\n",
    "#fhand.close()"
   ]
  },
  {
   "cell_type": "code",
   "execution_count": 9,
   "metadata": {},
   "outputs": [
    {
     "data": {
      "text/plain": [
       "{'29/Nov/2017': 580,\n",
       " '30/Nov/2017': 2991,\n",
       " '01/Dec/2017': 468,\n",
       " '02/Dec/2017': 168,\n",
       " '03/Dec/2017': 105,\n",
       " '07/Nov/2017': 2,\n",
       " '08/Nov/2017': 106,\n",
       " '09/Nov/2017': 236,\n",
       " '10/Nov/2017': 64,\n",
       " '11/Nov/2017': 286,\n",
       " '12/Nov/2017': 338,\n",
       " '13/Nov/2017': 230,\n",
       " '14/Nov/2017': 150,\n",
       " '15/Nov/2017': 78,\n",
       " '16/Nov/2017': 384,\n",
       " '17/Nov/2017': 481,\n",
       " '18/Nov/2017': 96,\n",
       " '19/Nov/2017': 164,\n",
       " '20/Nov/2017': 58,\n",
       " '21/Nov/2017': 47,\n",
       " '22/Nov/2017': 60,\n",
       " '23/Nov/2017': 380,\n",
       " '24/Nov/2017': 94,\n",
       " '25/Nov/2017': 250,\n",
       " '26/Nov/2017': 179,\n",
       " '12/Dec/2017': 86,\n",
       " '13/Dec/2017': 133,\n",
       " '14/Dec/2017': 165,\n",
       " '15/Dec/2017': 100,\n",
       " '16/Dec/2017': 155,\n",
       " '17/Dec/2017': 92,\n",
       " '18/Dec/2017': 178,\n",
       " '19/Dec/2017': 55,\n",
       " '20/Dec/2017': 98,\n",
       " '21/Dec/2017': 72,\n",
       " '22/Dec/2017': 11,\n",
       " '23/Dec/2017': 43,\n",
       " '16/Jan/2018': 76,\n",
       " '17/Jan/2018': 29,\n",
       " '18/Jan/2018': 63,\n",
       " '29/Jan/2018': 5092,\n",
       " '15/Feb/2018': 20,\n",
       " '16/Feb/2018': 33,\n",
       " '17/Feb/2018': 65,\n",
       " '18/Feb/2018': 34,\n",
       " '19/Feb/2018': 32,\n",
       " '20/Feb/2018': 62,\n",
       " '21/Feb/2018': 110,\n",
       " '22/Feb/2018': 231,\n",
       " '23/Feb/2018': 127,\n",
       " '24/Feb/2018': 15,\n",
       " '25/Feb/2018': 139,\n",
       " '26/Feb/2018': 98,\n",
       " '27/Feb/2018': 83,\n",
       " '28/Feb/2018': 123,\n",
       " '01/Mar/2018': 31,\n",
       " '02/Mar/2018': 143}"
      ]
     },
     "execution_count": 9,
     "metadata": {},
     "output_type": "execute_result"
    }
   ],
   "source": [
    "dict2"
   ]
  },
  {
   "cell_type": "markdown",
   "metadata": {},
   "source": [
    "# 4. Display the total count of HTTP GET requests and HTTP POST requests."
   ]
  },
  {
   "cell_type": "code",
   "execution_count": 54,
   "metadata": {},
   "outputs": [
    {
     "name": "stdout",
     "output_type": "stream",
     "text": [
      "{'GET_COUNT': 15098, 'POST_COUNT': 682}\n"
     ]
    }
   ],
   "source": [
    "#opening a file using try and except block\n",
    "try:\n",
    "    fhand = open(\"weblog.txt\",\"r\")\n",
    "except:\n",
    "    print(\"File can not be opened\")\n",
    "    exit()\n",
    "    \n",
    "count=0    \n",
    "list2 = [] #create a empty list\n",
    "list3 = []\n",
    "for line in fhand:#getting each line from the file\n",
    "    line = line.rstrip()\n",
    "    stat_get = re.findall(\"GET\",line)#finding out ip address\n",
    "    stat_post = re.findall(\"POST\",line)\n",
    "    list2.extend(stat_get)\n",
    "    list3.extend(stat_post)\n",
    "    \n",
    "count_dict = {\"GET_COUNT\":len(list2),\"POST_COUNT\":len(list3)}\n",
    "print(count_dict)"
   ]
  },
  {
   "cell_type": "markdown",
   "metadata": {},
   "source": [
    "# 3. Display the URL which has been accessed (either for submit or upload) for most number of times."
   ]
  },
  {
   "cell_type": "code",
   "execution_count": 33,
   "metadata": {},
   "outputs": [
    {
     "name": "stdout",
     "output_type": "stream",
     "text": [
      "/login.php 3298\n"
     ]
    }
   ],
   "source": [
    "#opening a file using try and except block\n",
    "try:\n",
    "    fhand = open(\"weblog.txt\",\"r\")\n",
    "except:\n",
    "    print(\"File can not be opened\")\n",
    "    exit()\n",
    "\n",
    "    \n",
    "list4 = [] #create a empty list\n",
    "for line in fhand:#getting each line from the file\n",
    "    line = line.rstrip()\n",
    "    url = line.split()[3] #REXEX (\" (/.*) .*\",x)\n",
    "    list4.append(url)\n",
    "max_dict={}  \n",
    "for url in list4:\n",
    "    max_dict[url] = list4.count(url)\n",
    "    \n",
    "maximum = max(max_dict, key=max_dict.get)  # Just use 'min' instead of 'max' for minimum.\n",
    "print(maximum, max_dict[maximum])"
   ]
  },
  {
   "cell_type": "markdown",
   "metadata": {},
   "source": [
    "# 5. Create a dictionary Status_Code where key is the status code, and value is a tuple consisting of a string stating meaning of the code and a number indicating the frequency of that code in the file.\n",
    "For example, {200:(“Success”, 53), 404: (“File Not Found”,4)} indicates 200 is the code to indicate ‘Success’, and there are 53 such transactions."
   ]
  },
  {
   "cell_type": "code",
   "execution_count": 69,
   "metadata": {},
   "outputs": [
    {
     "name": "stdout",
     "output_type": "stream",
     "text": [
      "404\n"
     ]
    },
    {
     "data": {
      "text/plain": [
       "{'200': ('Success', 11330),\n",
       " '302': ('Requested temporarily moved', 3498),\n",
       " '304': ('File Not Modified', 658),\n",
       " '206': ('Partial content processed', 52),\n",
       " '404': ('File Not Found', 251)}"
      ]
     },
     "execution_count": 69,
     "metadata": {},
     "output_type": "execute_result"
    }
   ],
   "source": [
    "#opening a file using try and except block\n",
    "try:\n",
    "    fhand = open(\"weblog.txt\",\"r\")\n",
    "except:\n",
    "    print(\"File can not be opened\")\n",
    "    exit()\n",
    "    \n",
    "    \n",
    "list2 = [] #create a empty list\n",
    "for line in fhand:#getting each line from the file\n",
    "    line = line.rstrip()\n",
    "    stat2 = re.findall(\"\\d+$\",line)#finding out ip address\n",
    "    list2.extend(stat2)\n",
    "   \n",
    "#create a empty dictionary    \n",
    "Status_Code={}\n",
    "for code in list2:\n",
    "    if code=='200':\n",
    "        Status_Code[code]=(\"Success\",list2.count(code))\n",
    "    elif code=='302':\n",
    "        Status_Code[code]=(\"Requested temporarily moved\",list2.count(code))\n",
    "    elif code=='404':\n",
    "        Status_Code[code]=(\"File Not Found\",list2.count(code))\n",
    "    elif code=='304':\n",
    "        Status_Code[code]=(\"File Not Modified\",list2.count(code))\n",
    "    else:\n",
    "        Status_Code[code]=(\"Partial content processed\",list2.count(code))\n",
    "Status_Code"
   ]
  },
  {
   "cell_type": "markdown",
   "metadata": {},
   "source": [
    "# 6. Create a histogram (list of tuples) indicating number of actions carried out in an hour of a day. For example [(8, 12), (15, 3)] indicates, there are 12 transactions between 8am to 8:59am, there are 3 transactions between 3pm to 3:59pm (because 15 means 3pm)."
   ]
  },
  {
   "cell_type": "code",
   "execution_count": 2,
   "metadata": {},
   "outputs": [
    {
     "name": "stdout",
     "output_type": "stream",
     "text": [
      "[(0, 118), (1, 53), (2, 48), (3, 164), (4, 246), (5, 283), (6, 575), (7, 313), (8, 284), (9, 187), (10, 138), (11, 255), (12, 732), (13, 766), (14, 581), (15, 1461), (16, 1169), (17, 754), (18, 734), (19, 847), (20, 5458), (21, 240), (22, 226), (23, 157)]\n"
     ]
    }
   ],
   "source": [
    "#opening a file using try and except block\n",
    "try:\n",
    "    fhand = open(\"weblog.txt\",\"r\")\n",
    "except:\n",
    "    print(\"File can not be opened\")\n",
    "    exit()\n",
    "    \n",
    "    \n",
    "list4 = [] #create a empty list\n",
    "for line in fhand:#getting each line from the file\n",
    "    line = line.rstrip()\n",
    "    stat2 = re.findall(\":(\\d{2}):\\d{2}:\\d{2}\",line)#finding out ip address\n",
    "    list4.extend(stat2)\n",
    "\n",
    "d = {}\n",
    "for i in list4:\n",
    "    d[i] = (int(i),list4.count(i))\n",
    "list12 = list(d.values())  \n",
    "list12.sort()\n",
    "print(list12)"
   ]
  },
  {
   "cell_type": "code",
   "execution_count": 13,
   "metadata": {},
   "outputs": [
    {
     "ename": "TypeError",
     "evalue": "concat() got multiple values for argument 'axis'",
     "output_type": "error",
     "traceback": [
      "\u001b[1;31m---------------------------------------------------------------------------\u001b[0m",
      "\u001b[1;31mTypeError\u001b[0m                                 Traceback (most recent call last)",
      "\u001b[1;32m<ipython-input-13-c5e6bc908cff>\u001b[0m in \u001b[0;36m<module>\u001b[1;34m\u001b[0m\n\u001b[0;32m      5\u001b[0m \u001b[0mx1\u001b[0m \u001b[1;33m=\u001b[0m \u001b[0mpd\u001b[0m\u001b[1;33m.\u001b[0m\u001b[0mDataFrame\u001b[0m\u001b[1;33m(\u001b[0m\u001b[0mx\u001b[0m\u001b[1;33m)\u001b[0m\u001b[1;33m\u001b[0m\u001b[1;33m\u001b[0m\u001b[0m\n\u001b[0;32m      6\u001b[0m \u001b[0my1\u001b[0m \u001b[1;33m=\u001b[0m \u001b[0mpd\u001b[0m\u001b[1;33m.\u001b[0m\u001b[0mDataFrame\u001b[0m\u001b[1;33m(\u001b[0m\u001b[0my\u001b[0m\u001b[1;33m)\u001b[0m\u001b[1;33m\u001b[0m\u001b[1;33m\u001b[0m\u001b[0m\n\u001b[1;32m----> 7\u001b[1;33m \u001b[0mfinal\u001b[0m \u001b[1;33m=\u001b[0m \u001b[0mpd\u001b[0m\u001b[1;33m.\u001b[0m\u001b[0mconcat\u001b[0m\u001b[1;33m(\u001b[0m\u001b[0mx1\u001b[0m\u001b[1;33m,\u001b[0m\u001b[0my1\u001b[0m\u001b[1;33m,\u001b[0m\u001b[0maxis\u001b[0m\u001b[1;33m=\u001b[0m\u001b[1;36m1\u001b[0m\u001b[1;33m)\u001b[0m\u001b[1;33m\u001b[0m\u001b[1;33m\u001b[0m\u001b[0m\n\u001b[0m\u001b[0;32m      8\u001b[0m \u001b[0mfinal\u001b[0m\u001b[1;33m\u001b[0m\u001b[1;33m\u001b[0m\u001b[0m\n",
      "\u001b[1;31mTypeError\u001b[0m: concat() got multiple values for argument 'axis'"
     ]
    }
   ],
   "source": [
    "import pandas as pd\n",
    "import matplotlib.pyplot as plt\n",
    "x = [x[0] for x in list12]\n",
    "y = [y[1] for y in list12]\n",
    "x1 = pd.DataFrame(x)\n",
    "y1 = pd.DataFrame(y)\n",
    "final = pd.c(x1,y1,axis=1)\n",
    "final"
   ]
  },
  {
   "cell_type": "code",
   "execution_count": null,
   "metadata": {},
   "outputs": [],
   "source": []
  },
  {
   "cell_type": "code",
   "execution_count": null,
   "metadata": {},
   "outputs": [],
   "source": []
  },
  {
   "cell_type": "markdown",
   "metadata": {},
   "source": [
    "## -------------------------------------------------------END---------------------------------------------------------------"
   ]
  }
 ],
 "metadata": {
  "kernelspec": {
   "display_name": "Python 3",
   "language": "python",
   "name": "python3"
  },
  "language_info": {
   "codemirror_mode": {
    "name": "ipython",
    "version": 3
   },
   "file_extension": ".py",
   "mimetype": "text/x-python",
   "name": "python",
   "nbconvert_exporter": "python",
   "pygments_lexer": "ipython3",
   "version": "3.7.1"
  }
 },
 "nbformat": 4,
 "nbformat_minor": 2
}
